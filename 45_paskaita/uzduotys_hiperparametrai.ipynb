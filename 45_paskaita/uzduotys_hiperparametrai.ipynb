{
 "cells": [
  {
   "cell_type": "markdown",
   "metadata": {},
   "source": [
    "## 1 Užduotis\n",
    "\n",
    "Panaudokite Grid Search, Random Search ir Bayes optimizavimą vienam iš savo anksčiau naudotų datasetų, jog surastumėte didžiausią tikslumą ir geriausius hiperparametrus"
   ]
  },
  {
   "cell_type": "code",
   "execution_count": 11,
   "metadata": {},
   "outputs": [
    {
     "name": "stdout",
     "output_type": "stream",
     "text": [
      "[0 0 0 0 0 0 0 0 0 0 0 0 0 0 0 0 0 0 0 0 0 0 0 0 0 0 0 0 0 0 0 0 0 0 0 0 0\n",
      " 0 0 0 0 0 0 0 0 0 0 0 0 0 0 0 0 0 0 0 0 0 0 1 1 1 1 1 1 1 1 1 1 1 1 1 1 1\n",
      " 1 1 1 1 1 1 1 1 1 1 1 1 1 1 1 1 1 1 1 1 1 1 1 1 1 1 1 1 1 1 1 1 1 1 1 1 1\n",
      " 1 1 1 1 1 1 1 1 1 1 1 1 1 1 1 1 1 1 1 2 2 2 2 2 2 2 2 2 2 2 2 2 2 2 2 2 2\n",
      " 2 2 2 2 2 2 2 2 2 2 2 2 2 2 2 2 2 2 2 2 2 2 2 2 2 2 2 2 2 2]\n"
     ]
    }
   ],
   "source": [
    "from sklearn.model_selection import train_test_split\n",
    "from sklearn.datasets import load_wine\n",
    "from sklearn.metrics import accuracy_score\n",
    "\n",
    "data = load_wine()\n",
    "# print(data)\n",
    "X = data.data \n",
    "y = data.target\n",
    "\n",
    "X_train, X_test, y_train, y_test = train_test_split(X, y, test_size=0.2, random_state=42)\n",
    "print(y)"
   ]
  },
  {
   "cell_type": "code",
   "execution_count": 12,
   "metadata": {},
   "outputs": [
    {
     "name": "stdout",
     "output_type": "stream",
     "text": [
      "Grid Search geriausi parametrai: {'max_depth': None, 'min_samples_split': 2, 'n_estimators': 100}\n",
      "Grid Search geriausias tikslumas: 0.9785714285714286\n"
     ]
    }
   ],
   "source": [
    "# grid search - kai reikia garantuoti geriausią kombinaciją\n",
    "from sklearn.model_selection import GridSearchCV\n",
    "from sklearn.ensemble import RandomForestClassifier\n",
    "# from sklearn.linear_model import LinearRegression\n",
    "\n",
    "param_grid = {\n",
    "    'n_estimators': [50, 100, 200],\n",
    "    'max_depth': [None, 10, 20, 30],\n",
    "    'min_samples_split': [2, 5, 10]\n",
    "}\n",
    "\n",
    "model = RandomForestClassifier()\n",
    "grid_search = GridSearchCV(estimator=model, param_grid=param_grid, cv=5, scoring ='accuracy')\n",
    "grid_search.fit(X_train, y_train)\n",
    "\n",
    "grid_best_params = grid_search.best_params_\n",
    "grid_best_score = grid_search.best_score_\n",
    "\n",
    "print(f\"Grid Search geriausi parametrai: {grid_best_params}\")\n",
    "print(f\"Grid Search geriausias tikslumas: {grid_best_score}\")"
   ]
  },
  {
   "cell_type": "code",
   "execution_count": 13,
   "metadata": {},
   "outputs": [
    {
     "name": "stdout",
     "output_type": "stream",
     "text": [
      "Random Search geriausi parametrai:  {'n_estimators': 50, 'min_samples_split': 5, 'max_depth': 30}\n",
      "Random Search geriausias tikslumas: 0.9785714285714286\n"
     ]
    }
   ],
   "source": [
    "# Random search - kai norima efektyvumo ir greičio\n",
    "from sklearn.model_selection import RandomizedSearchCV\n",
    "param_dist = {\n",
    "    'n_estimators': [50, 100, 200],\n",
    "    'max_depth': [None, 10, 20, 30],\n",
    "    'min_samples_split': [2, 5, 10]\n",
    "}\n",
    "\n",
    "model = RandomForestClassifier()\n",
    "random_search = RandomizedSearchCV(estimator=model, param_distributions=param_dist, n_iter=10, cv=5, scoring ='accuracy')\n",
    "random_search.fit(X_train, y_train)\n",
    "\n",
    "random_best_params = random_search.best_params_\n",
    "random_best_score = random_search.best_score_\n",
    "\n",
    "print(f\"Random Search geriausi parametrai:  {random_best_params}\")\n",
    "print(f\"Random Search geriausias tikslumas: {random_best_score}\")"
   ]
  },
  {
   "cell_type": "code",
   "execution_count": 14,
   "metadata": {},
   "outputs": [
    {
     "name": "stdout",
     "output_type": "stream",
     "text": [
      "Bayes Search geriausi parametrai: OrderedDict({'max_depth': 21, 'min_samples_split': 3, 'n_estimators': 92})\n",
      "Bayes Search geriausias tikslumas: 0.9785714285714286\n"
     ]
    }
   ],
   "source": [
    "# Bayes optimizavimas su mažiausiai bandymų randamas geriausias rezultatas\n",
    "from skopt import BayesSearchCV\n",
    "\n",
    "\n",
    "param_space = {\n",
    "    'n_estimators': (50, 200),\n",
    "    'max_depth': (10, 30),\n",
    "    'min_samples_split': (2, 10)\n",
    "}\n",
    "\n",
    "model = RandomForestClassifier()\n",
    "bayes_search = BayesSearchCV(estimator=model, search_spaces=param_space, n_iter=30, cv=5)\n",
    "bayes_search.fit(X_train, y_train)\n",
    "\n",
    "# print(bayes_search.best_params_)\n",
    "bayes_best_params = bayes_search.best_params_\n",
    "bayes_best_score = bayes_search.best_score_\n",
    "\n",
    "print(f\"Bayes Search geriausi parametrai: {bayes_best_params}\")\n",
    "print(f\"Bayes Search geriausias tikslumas: {bayes_best_score}\")"
   ]
  },
  {
   "cell_type": "code",
   "execution_count": 15,
   "metadata": {},
   "outputs": [
    {
     "name": "stdout",
     "output_type": "stream",
     "text": [
      "Grid Search geriausias tikslumas: 0.9785714285714286\n",
      "Random Search geriausias tikslumas: 0.9785714285714286\n",
      "Bayes Search geriausias tikslumas: 0.9785714285714286\n"
     ]
    }
   ],
   "source": [
    "print(f\"Grid Search geriausias tikslumas: {grid_best_score}\")\n",
    "print(f\"Random Search geriausias tikslumas: {random_best_score}\")\n",
    "print(f\"Bayes Search geriausias tikslumas: {bayes_best_score}\")"
   ]
  },
  {
   "cell_type": "code",
   "execution_count": 16,
   "metadata": {},
   "outputs": [
    {
     "name": "stdout",
     "output_type": "stream",
     "text": [
      "1.0\n"
     ]
    }
   ],
   "source": [
    "model = RandomForestClassifier(max_depth=10, min_samples_split=10, n_estimators=50)\n",
    "model.fit(X_train, y_train)\n",
    "\n",
    "y_pred = model.predict(X_test)\n",
    "print(accuracy_score(y_test, y_pred))"
   ]
  }
 ],
 "metadata": {
  "kernelspec": {
   "display_name": "mokymai",
   "language": "python",
   "name": "python3"
  },
  "language_info": {
   "codemirror_mode": {
    "name": "ipython",
    "version": 3
   },
   "file_extension": ".py",
   "mimetype": "text/x-python",
   "name": "python",
   "nbconvert_exporter": "python",
   "pygments_lexer": "ipython3",
   "version": "3.12.2"
  }
 },
 "nbformat": 4,
 "nbformat_minor": 2
}
