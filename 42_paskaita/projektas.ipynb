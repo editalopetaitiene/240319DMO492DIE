{
 "cells": [
  {
   "cell_type": "code",
   "execution_count": 28,
   "metadata": {},
   "outputs": [
    {
     "name": "stdout",
     "output_type": "stream",
     "text": [
      "['namas', 'knyga', 'šuo', 'katė', 'žmogus', 'medis', 'upė', 'upelis', 'miškas', 'žolė', 'mašina', 'kelias', 'dangaus', 'žemė', 'vanduo', 'oras', 'vėjas', 'saulė', 'mėnulis', 'žvaigždė', 'house', 'book', 'dog', 'cat', 'person', 'tree', 'river', 'brook', 'forest', 'grass', 'car', 'road', 'sky', 'earth', 'water', 'air', 'wind', 'sun', 'moon', 'star']\n",
      "              precision    recall  f1-score   support\n",
      "\n",
      "          en       0.40      1.00      0.57         4\n",
      "          lt       0.00      0.00      0.00         6\n",
      "\n",
      "    accuracy                           0.40        10\n",
      "   macro avg       0.20      0.50      0.29        10\n",
      "weighted avg       0.16      0.40      0.23        10\n",
      "\n"
     ]
    },
    {
     "name": "stderr",
     "output_type": "stream",
     "text": [
      "c:\\Users\\edita\\Documents\\KURSAI\\240319DMO492DIE\\mokymai\\Lib\\site-packages\\sklearn\\metrics\\_classification.py:1509: UndefinedMetricWarning: Precision is ill-defined and being set to 0.0 in labels with no predicted samples. Use `zero_division` parameter to control this behavior.\n",
      "  _warn_prf(average, modifier, f\"{metric.capitalize()} is\", len(result))\n",
      "c:\\Users\\edita\\Documents\\KURSAI\\240319DMO492DIE\\mokymai\\Lib\\site-packages\\sklearn\\metrics\\_classification.py:1509: UndefinedMetricWarning: Precision is ill-defined and being set to 0.0 in labels with no predicted samples. Use `zero_division` parameter to control this behavior.\n",
      "  _warn_prf(average, modifier, f\"{metric.capitalize()} is\", len(result))\n",
      "c:\\Users\\edita\\Documents\\KURSAI\\240319DMO492DIE\\mokymai\\Lib\\site-packages\\sklearn\\metrics\\_classification.py:1509: UndefinedMetricWarning: Precision is ill-defined and being set to 0.0 in labels with no predicted samples. Use `zero_division` parameter to control this behavior.\n",
      "  _warn_prf(average, modifier, f\"{metric.capitalize()} is\", len(result))\n"
     ]
    }
   ],
   "source": [
    "from sklearn.feature_extraction.text import TfidfVectorizer\n",
    "from sklearn.naive_bayes import MultinomialNB\n",
    "from sklearn.pipeline import make_pipeline\n",
    "from sklearn.model_selection import train_test_split\n",
    "from sklearn.metrics import accuracy_score, classification_report, confusion_matrix\n",
    "\n",
    "lt_words = [\n",
    "    \"namas\", \"knyga\", \"šuo\", \"katė\", \"žmogus\", \"medis\", \"upė\", \"upelis\", \"miškas\", \"žolė\",\n",
    "    \"mašina\", \"kelias\", \"dangaus\", \"žemė\", \"vanduo\", \"oras\", \"vėjas\", \"saulė\", \"mėnulis\", \"žvaigždė\"\n",
    "]\n",
    "en_words = [\n",
    "    \"house\", \"book\", \"dog\", \"cat\", \"person\", \"tree\", \"river\", \"brook\", \"forest\", \"grass\",\n",
    "    \"car\", \"road\", \"sky\", \"earth\", \"water\", \"air\", \"wind\", \"sun\", \"moon\", \"star\"\n",
    "]\n",
    "data = lt_words + en_words\n",
    "print(data)\n",
    "\n",
    "labels = ['lt'] * 20 + ['en'] * 20\n",
    "\n",
    "X_mokymui, X_testui, Y_mokymui, Y_testui = train_test_split(data, labels)\n",
    "\n",
    "vectorizer = TfidfVectorizer()\n",
    "multimonia = MultinomialNB()\n",
    "\n",
    "model = make_pipeline(vectorizer, multimonia)\n",
    "model.fit(X_mokymui, Y_mokymui)\n",
    "\n",
    "y_pred = model.predict(X_testui)\n",
    "\n",
    "print(classification_report(Y_testui, y_pred))\n",
    "\n"
   ]
  },
  {
   "cell_type": "code",
   "execution_count": 44,
   "metadata": {},
   "outputs": [
    {
     "name": "stdout",
     "output_type": "stream",
     "text": [
      "219\n",
      "174\n",
      "174\n",
      "174\n",
      "['Kartą', 'gyveno', 'mažas', 'berniukas', 'vardu', 'Jonas', 'kuris', 'labai', 'mėgo', 'tyrinėti', 'miškus', 'Vieną', 'dieną', 'vaikščiodamas', 'po', 'giliąją', 'girią', 'jis', 'rado', 'seną', 'paslaptingą', 'durį', 'paslėptą', 'po', 'samanų', 'ir', 'vijoklių', 'sluoksniu', 'Jonas', 'atidarė', 'duris', 'ir', 'pateko', 'į', 'magišką', 'pasaulį', 'pilną', 'stebuklingų', 'būtybių', 'ir', 'nuostabių', 'vaizdų', 'Pirmiausia', 'jis', 'sutiko', 'mažą', 'kiškutį', 'vardu', 'Baltuolis', 'kuris', 'galėjo', 'kalbėti', 'Baltuolis', 'pasakojo', 'kad', 'šiame', 'pasaulyje', 'gyvena', 'fėjos', 'nykštukai', 'ir', 'milžinai', 'kurie', 'saugo', 'mišką', 'nuo', 'piktojo', 'raganos', 'vardu', 'Ragana', 'Juodoji', 'Ji', 'norėjo', 'užvaldyti', 'visą', 'mišką', 'ir', 'pavergti', 'visas', 'magiškas', 'būtybes', 'Jonas', 'nusprendė', 'padėti', 'miško', 'gyventojams', 'Kartu', 'su', 'Baltuoliu', 'jie', 'nuėjo', 'pas', 'fėją', 'Saulutę', 'kuri', 'buvo', 'miško', 'karalienė', 'Saulutė', 'davė', 'Jonui', 'stebuklingą', 'lazdelę', 'kuri', 'galėjo', 'atstatyti', 'miško', 'harmoniją', 'ir', 'išgydyti', 'bet', 'kokią', 'žalą', 'Jonas', 'Baltuolis', 'ir', 'Saulutė', 'kartu', 'susirėmė', 'su', 'Ragana', 'Juodąja', 'Po', 'ilgos', 'kovos', 'Jonas', 'panaudojo', 'stebuklingą', 'lazdelę', 'ir', 'nugalėjo', 'raganą', 'Miškas', 'vėl', 'tapo', 'taikus', 'o', 'Jonas', 'grįžo', 'namo', 'nešinas', 'nuostabiais', 'prisiminimais', 'Nuo', 'to', 'laiko', 'Jonas', 'žinojo', 'kad', 'net', 'ir', 'mažas', 'žmogus', 'gali', 'padaryti', 'didelius', 'darbus', 'jei', 'tik', 'turi', 'drąsos', 'ir', 'gerą', 'širdį', 'Ir', 'taip', 'jis', 'gyveno', 'laimingai', 'prisimindamas', 'savo', 'nuotykius', 'stebuklingame', 'pasaulyje', 'Once', 'upon', 'a', 'time', 'in', 'a', 'small', 'village', 'there', 'lived', 'a', 'girl', 'named', 'Ella', 'She', 'loved', 'exploring', 'the', 'forest', 'near', 'her', 'home', 'One', 'day', 'she', 'found', 'a', 'hidden', 'path', 'she', 'had', 'never', 'seen', 'before', 'Curious', 'she', 'followed', 'it', 'and', 'soon', 'came', 'upon', 'a', 'beautiful', 'sparkling', 'lake', 'At', 'the', 'edge', 'of', 'the', 'lake', 'Ella', 'saw', 'a', 'swan', 'with', 'golden', 'feathers', 'The', 'swan', 'spoke', 'to', 'her', 'in', 'a', 'gentle', 'voice', 'Hello', 'Ella', 'I', 'am', 'Luna', 'the', 'enchanted', 'swan', 'I', 'need', 'your', 'help', 'Ella', 'was', 'amazed', 'and', 'asked', 'How', 'can', 'I', 'help', 'you', 'Luna', 'explained', 'that', 'an', 'evil', 'sorcerer', 'had', 'cursed', 'her', 'trapping', 'her', 'in', 'this', 'form', 'To', 'break', 'the', 'curse', 'Ella', 'needed', 'to', 'find', 'a', 'magical', 'flower', 'that', 'bloomed', 'only', 'once', 'every', 'hundred', 'years', 'on', 'a', 'distant', 'mountain', 'Determined', 'Ella', 'set', 'off', 'on', 'her', 'journey', 'She', 'faced', 'many', 'challenges', 'crossing', 'a', 'deep', 'ravine', 'climbing', 'steep', 'cliffs', 'and', 'navigating', 'through', 'a', 'dark', 'eerie', 'forest', 'Along', 'the', 'way', 'she', 'met', 'a', 'wise', 'old', 'owl', 'and', 'a', 'playful', 'squirrel', 'who', 'guided', 'her', 'Finally', 'after', 'a', 'long', 'and', 'arduous', 'journey']\n",
      "['lt' 'lt' 'lt' 'en' 'en']\n"
     ]
    }
   ],
   "source": [
    "from string import punctuation\n",
    "lt = \"Kartą gyveno mažas berniukas, vardu Jonas, kuris labai mėgo tyrinėti miškus. Vieną dieną, vaikščiodamas po giliąją girią, jis rado seną, paslaptingą durį, paslėptą po samanų ir vijoklių sluoksniu. Jonas atidarė duris ir pateko į magišką pasaulį, pilną stebuklingų būtybių ir nuostabių vaizdų. Pirmiausia jis sutiko mažą kiškutį, vardu Baltuolis, kuris galėjo kalbėti. Baltuolis pasakojo, kad šiame pasaulyje gyvena fėjos, nykštukai ir milžinai, kurie saugo mišką nuo piktojo raganos, vardu Ragana Juodoji. Ji norėjo užvaldyti visą mišką ir pavergti visas magiškas būtybes. Jonas nusprendė padėti miško gyventojams. Kartu su Baltuoliu jie nuėjo pas fėją Saulutę, kuri buvo miško karalienė. Saulutė davė Jonui stebuklingą lazdelę, kuri galėjo atstatyti miško harmoniją ir išgydyti bet kokią žalą. Jonas, Baltuolis ir Saulutė kartu susirėmė su Ragana Juodąja. Po ilgos kovos, Jonas panaudojo stebuklingą lazdelę ir nugalėjo raganą. Miškas vėl tapo taikus, o Jonas grįžo namo, nešinas nuostabiais prisiminimais. Nuo to laiko Jonas žinojo, kad net ir mažas žmogus gali padaryti didelius darbus, jei tik turi drąsos ir gerą širdį. Ir taip jis gyveno laimingai, prisimindamas savo nuotykius stebuklingame pasaulyje. \"\n",
    "en = 'Once upon a time, in a small village, there lived a girl named Ella. She loved exploring the forest near her home. One day, she found a hidden path she had never seen before. Curious, she followed it and soon came upon a beautiful, sparkling lake. At the edge of the lake, Ella saw a swan with golden feathers. The swan spoke to her in a gentle voice, \"Hello, Ella. I am Luna, the enchanted swan. I need your help.\" Ella was amazed and asked, \"How can I help you?\" Luna explained that an evil sorcerer had cursed her, trapping her in this form. To break the curse, Ella needed to find a magical flower that bloomed only once every hundred years on a distant mountain. Determined, Ella set off on her journey. She faced many challenges: crossing a deep ravine, climbing steep cliffs, and navigating through a dark, eerie forest. Along the way, she met a wise old owl and a playful squirrel who guided her. Finally, after a long and arduous journey, Ella found the magical flower. She returned to the lake and presented it to Luna. The curse was broken, and Luna transformed back into a princess. Grateful, Luna thanked Ella and they became lifelong friends. Ella returned home, her heart filled with joy and adventure.'\n",
    "print(len(en.split()))\n",
    "print(len(lt.split()))\n",
    "# # print(punctuation)\n",
    "# def panaikinti_simbolius(sarasas):\n",
    "#     lt_be_zenklu = []\n",
    "#     for zodis in sarasas.slipt():\n",
    "#         zodis_be_zenklu = ''\n",
    "#         for simbolis in zodis: \n",
    "#             if simbolis in punctuation:\n",
    "#                 continue\n",
    "#             else:\n",
    "#                 zodis_be_zenklu += simbolis\n",
    "#     return lt_be_zenklu\n",
    "\n",
    "# lt_be_zenklu = panaikinti_simbolius(lt)\n",
    "# en_be_zenklu = panaikinti_simbolius(en)\n",
    "# en_be_zenklu = en_be_zenklu[:173]\n",
    "\n",
    "# print(len(lt_be_zenklu))\n",
    "\n",
    "def panaikinti_simbolius(sarasas):\n",
    "    lt_be_zenklu = []\n",
    "    for zodis in sarasas.split():\n",
    "        zodis_be_zenklu = ''\n",
    "        for simbolis in zodis:\n",
    "            if simbolis in punctuation:\n",
    "                continue\n",
    "            else:\n",
    "                zodis_be_zenklu += simbolis\n",
    "        lt_be_zenklu.append(zodis_be_zenklu)\n",
    "    return lt_be_zenklu\n",
    "\n",
    "lt_be_zenklu = panaikinti_simbolius(lt)\n",
    "en_be_zenklu = panaikinti_simbolius(en)\n",
    "en_be_zenklu = en_be_zenklu[:174]\n",
    "\n",
    "print(len(lt_be_zenklu))\n",
    "print(len(en_be_zenklu))\n",
    "\n",
    "data = lt_be_zenklu + en_be_zenklu\n",
    "print(data)\n",
    "\n",
    "labels =['lt'] * len(lt_be_zenklu) + ['en'] * len(en_be_zenklu)\n",
    "\n",
    "X_mokymui, X_testui, Y_mokymui, Y_testui = train_test_split(data, labels)\n",
    "\n",
    "vectorizer = TfidfVectorizer()\n",
    "multimonia = MultinomialNB()\n",
    "\n",
    "# model = make_pipeline(vectorizer, multimonia)\n",
    "# model.fit(X_mokymui, Y_mokymui)\n",
    "\n",
    "# y_pred = model.predict(X_testui)\n",
    "\n",
    "# print(classification_report(Y_testui, y_pred))\n",
    "# accuracy = accuracy_score(y_pred, Y_testui)\n",
    "# print(accuracy)\n",
    "\n",
    "model.fit(data, labels)\n",
    "X_spejimui = ['magiškas', 'širdį', 'magišką', 'lietus', 'miškuose']\n",
    "y_pred = model.predict(X_spejimui)\n",
    "Y_testui = ['lt', 'lt']\n",
    "\n",
    "print(y_pred)\n"
   ]
  }
 ],
 "metadata": {
  "kernelspec": {
   "display_name": "mokymai",
   "language": "python",
   "name": "python3"
  },
  "language_info": {
   "codemirror_mode": {
    "name": "ipython",
    "version": 3
   },
   "file_extension": ".py",
   "mimetype": "text/x-python",
   "name": "python",
   "nbconvert_exporter": "python",
   "pygments_lexer": "ipython3",
   "version": "3.12.2"
  }
 },
 "nbformat": 4,
 "nbformat_minor": 2
}
