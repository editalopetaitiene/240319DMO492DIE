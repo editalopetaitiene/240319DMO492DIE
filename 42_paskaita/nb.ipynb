{
 "cells": [
  {
   "cell_type": "code",
   "execution_count": 28,
   "metadata": {},
   "outputs": [
    {
     "name": "stdout",
     "output_type": "stream",
     "text": [
      "0.9736842105263158\n"
     ]
    }
   ],
   "source": [
    "from sklearn.model_selection import train_test_split # panaikina nereikalingus stulpelius\n",
    "from sklearn.naive_bayes import GaussianNB\n",
    "from sklearn.datasets import load_iris\n",
    "from sklearn.metrics import accuracy_score\n",
    "\n",
    "iris = load_iris()\n",
    "X = iris.data # listas, matrica su duomenimis\n",
    "Y = iris.target #čia jų kategorizavimas\n",
    "\n",
    "X_train, X_test, Y_train, Y_test = train_test_split(X, Y)\n",
    "model = GaussianNB()\n",
    "model.fit(X_train, Y_train)\n",
    "\n",
    "Y_perd = model.predict(X_test)\n",
    "\n",
    "accuracy = accuracy_score(Y_perd, Y_test)\n",
    "print(accuracy) #tikslumas"
   ]
  },
  {
   "cell_type": "code",
   "execution_count": 51,
   "metadata": {},
   "outputs": [
    {
     "name": "stdout",
     "output_type": "stream",
     "text": [
      "5\n"
     ]
    }
   ],
   "source": [
    "# mano\n",
    "# metodas skirtas dirbti su didesniais tekstų kiekiais \n",
    "from sklearn.datasets import fetch_20newsgroups\n",
    "import ssl\n",
    "from pprint import pprint\n",
    "\n",
    "ssl._create_default_https_context = ssl._create_unverified_context\n",
    "newsgroups = fetch_20newsgroups(subset='all', categories=['rec.sport.baseball', 'sci.med'])\n",
    "# pprint(newsgroups)\n",
    "\n",
    "with open('data.txt', 'w', encoding='utf-8') as f:\n",
    "    # f.write(str(newsgroups.data))\n",
    "    for straipsnis in newsgroups.data:\n",
    "        f.write(f\"{straipsnis}ą\")\n",
    "\n",
    "with open('target.txt', 'w') as f:\n",
    "    f.write(str(list(newsgroups.target)))\n",
    "\n",
    "pprint(len(newsgroups))"
   ]
  },
  {
   "cell_type": "code",
   "execution_count": 1,
   "metadata": {},
   "outputs": [],
   "source": [
    "# lektoriaus\n",
    "from sklearn.datasets import fetch_20newsgroups\n",
    "import ssl\n",
    "from pprint import pprint\n",
    "ssl._create_default_https_context = ssl._create_unverified_context\n",
    "\n",
    "newsgroups = fetch_20newsgroups(subset='all', categories=['rec.sport.baseball', 'sci.med'])\n",
    "# pprint(newsgroups)\n",
    "\n",
    "# print(type(newsgroups.data[0]))\n",
    "\n",
    "with open('data.txt', 'w', encoding='utf-8') as f:\n",
    "    for straipsnis in newsgroups.data:\n",
    "        f.write(f\"{straipsnis}ą\")\n",
    "\n",
    "with open('target.txt', 'w') as f:\n",
    "    f.write(str(list(newsgroups.target)))\n",
    "\n",
    "# print(len(newsgroups.data))\n",
    "\n"
   ]
  },
  {
   "cell_type": "code",
   "execution_count": 1,
   "metadata": {},
   "outputs": [
    {
     "name": "stdout",
     "output_type": "stream",
     "text": [
      "0.9939516129032258\n",
      "              precision    recall  f1-score   support\n",
      "\n",
      "           0       1.00      1.00      1.00       255\n",
      "           1       1.00      0.99      0.99       241\n",
      "           1       0.00      0.00      0.00         0\n",
      "\n",
      "    accuracy                           0.99       496\n",
      "   macro avg       0.66      0.66      0.66       496\n",
      "weighted avg       1.00      0.99      0.99       496\n",
      "\n"
     ]
    },
    {
     "name": "stderr",
     "output_type": "stream",
     "text": [
      "c:\\Users\\edita\\Documents\\KURSAI\\240319DMO492DIE\\mokymai\\Lib\\site-packages\\sklearn\\metrics\\_classification.py:1509: UndefinedMetricWarning: Recall is ill-defined and being set to 0.0 in labels with no true samples. Use `zero_division` parameter to control this behavior.\n",
      "  _warn_prf(average, modifier, f\"{metric.capitalize()} is\", len(result))\n",
      "c:\\Users\\edita\\Documents\\KURSAI\\240319DMO492DIE\\mokymai\\Lib\\site-packages\\sklearn\\metrics\\_classification.py:1509: UndefinedMetricWarning: Recall is ill-defined and being set to 0.0 in labels with no true samples. Use `zero_division` parameter to control this behavior.\n",
      "  _warn_prf(average, modifier, f\"{metric.capitalize()} is\", len(result))\n",
      "c:\\Users\\edita\\Documents\\KURSAI\\240319DMO492DIE\\mokymai\\Lib\\site-packages\\sklearn\\metrics\\_classification.py:1509: UndefinedMetricWarning: Recall is ill-defined and being set to 0.0 in labels with no true samples. Use `zero_division` parameter to control this behavior.\n",
      "  _warn_prf(average, modifier, f\"{metric.capitalize()} is\", len(result))\n"
     ]
    }
   ],
   "source": [
    "# lektoriaus\n",
    "from sklearn.feature_extraction.text import TfidfVectorizer\n",
    "from sklearn.naive_bayes import MultinomialNB\n",
    "from sklearn.pipeline import make_pipeline\n",
    "from sklearn.model_selection import train_test_split\n",
    "from sklearn.metrics import accuracy_score, classification_report, confusion_matrix\n",
    "\n",
    "\n",
    "with open('data.txt', 'r', encoding='utf-8') as f:\n",
    "    straipsniai = f.read()\n",
    "\n",
    "straipsniai = straipsniai.split('ą')\n",
    "straipsniai.pop(-1)\n",
    "\n",
    "with open('target.txt', 'r') as f:\n",
    "    straipsniu_kategorijos = f.read()\n",
    "\n",
    "straipsniu_kategorijos = straipsniu_kategorijos.replace(\"[\",\"\").replace(\"]\", \"\").split(\",\")\n",
    "\n",
    "straipsniai_mokymui, straipsniai_testui, straipsniu_kat_mokymui, straipsniu_kat_testui = train_test_split(straipsniai, straipsniu_kategorijos)\n",
    "\n",
    "vectorizer = TfidfVectorizer()\n",
    "classifier = MultinomialNB()\n",
    "\n",
    "model = make_pipeline(vectorizer, classifier)\n",
    "model.fit(straipsniai_mokymui, straipsniu_kat_mokymui)\n",
    "\n",
    "straipsniu_kat_predicted = model.predict(straipsniai_testui)\n",
    "# print(straipsniu_kat_predicted)\n",
    "\n",
    "tikslumas = accuracy_score(straipsniu_kat_predicted, straipsniu_kat_testui)\n",
    "print(tikslumas)\n",
    "# print(len(straipsniu_kat_testui))\n",
    "\n",
    "print(classification_report(straipsniu_kat_predicted, straipsniu_kat_testui))\n"
   ]
  },
  {
   "cell_type": "code",
   "execution_count": 33,
   "metadata": {},
   "outputs": [
    {
     "name": "stdout",
     "output_type": "stream",
     "text": [
      "\n"
     ]
    },
    {
     "ename": "ValueError",
     "evalue": "Expected 2D array, got 1D array instead:\narray=[\"From: ab961@Freenet.carleton.ca (Robert Allison)\\nSubject: Bursitis and laser treatment\\nReply-To: ab961@Freenet.carleton.ca (Robert Allison)\\nOrganization: The National Capital Freenet\\nLines: 20\\n\\n\\nMy family doctor and the physiotherapist (PT) she sent me to agree that the\\npain in my left shoulder is bursitis. I have an appointment with an orthpod\\n(I love that, it's short for 'orthopedic surgeon, apparently) but while I'm\\nwaiting the PT is treating me.\\n\\nShe's using hot packs, ultrasound, and lasers, but there's no improvement\\nyet. In fact, I almost suspect it's getting worse.\\n\\nMy real question is about the laser treatment. I can't easily imagine what\\nthe physical effect that could have on a deep tissue problem. Can anyone\\nshed some light (so to speak) on the matter?\\n-- \\nRobert Allison\\nOttawa, Ontario CANADA\\n\"\n \"From: jge@cs.unc.edu (John Eyles)\\nSubject: tick fever (aka rocky mtn spotted)\\nOrganization: The University of North Carolina at Chapel Hill\\nLines: 22\\nDistribution: usa\\nNNTP-Posting-Host: ceti.cs.unc.edu\\n\\nAny rocky mountain spotted fever experts out there ?\\n\\nThe doctor thinks a friend might have this.\\nThe question is, doesn't the tick have to bite you ?\\n\\nYou frequently find a tick crawling on you after a walk\\nin the woods around here, but you tend to notice it before\\nit bites you; pulling one out of your skin is something\\nyou're not likely to forget.\\n\\nCan you get the fever without it biting you ?  Do they\\nsometimes bite you and then let go so you don't realize\\nyou were bitten ?  I know they will let go once they've had\\ntheir fill, but you certainly would notice this (arggh).\\n\\nSo how do you get the fever if you never pulled a tick\\noff yourself (as opposed to finding one merely crawling\\non you) ?\\n\\nJohn Eyles\\njge@cs.unc.edu\\n\\n\"\n \"From: king@cogsci.ucsd.edu (Jonathan King)\\nSubject: A Move we won't see (was Why The RedFlops Can(but won't) win.....)\\nOrganization: University of California, San Diego\\nLines: 14\\nNNTP-Posting-Host: cogsci.ucsd.edu\\nSummary: it would be tragic if ted simmons were to pick up mo vaughn\\n\\nstwombly@cs.ulowell.edu (Steve Twombly) writes:\\n>1.  Mo Vaughn CAN hit .400 in the spring.\\n>1b. Mo Vaughn CAN Only hit .230 during the season.\\n\\nExcellent point.  I hope to God that Ted Simmons doesn't get the weird\\nidea of trading for the guy.  And if he does, he had better not\\ninclude Jeff King in the deal.  Oh God--what if he traded Zane Smith\\nand Jeff King for Vaughn and Greg Blosser?  It would be worse than The\\nNichols Curse!\\n\\nHmm, I guess that doesn't sound sincere enough.  Oh well, at least I\\ntried...\\n\\njking\\n\"\n ...\n \"From: luriem@alleg.edu(Michael Lurie) The Liberalizer\\nSubject: Winfield has Re: 200 SBs & 200 HRs\\nOrganization: Allegheny College\\nLines: 47\\n\\nIn article <mjones.735584681@fenway> mjones@fenway.aix.kingston.ibm.com  \\n(Mike Jones) writes:\\n> dans@fore.csd.sgi.com (Dan Steinman) writes:\\n> >Last night on the Giants/Mets radio broadcast Hank and Ted were\\n> >discussing the fact that there were only 16 players who had ever hit\\n> >200 homeruns and stolen 200 bases in their career (while HoJo was\\n> >batting).  Anyone have a list?  Not as easy as it sounds to come up\\n> >with all of them.  I couldn't.  Mays, Mantle, Aaron, Henderson, Morgan,\\n> >Bonds (Dad), ???  Frank Robinson?  Molitor?  Yount?  Guessing now.  I'd\\n> >be interested to see the whole list.\\n> \\n> First, please watch your line lengths. Not everyone has autowrap. \\n> Second, Franklin to the rescue! Here's the list:\\n> Player        HR  SB\\n> Aaron        755 240\\n> Mays         660 338\\n> FRobinson    586 204\\n> RJackson     563 228\\n> Winfield     406 216 *\\n> Dawson       377 304 *\\n> Baylor       338 285\\n> BoBonds      332 461\\n> Wynn         291 225\\n> Strawberry   280 201 *\\n> Morgan       268 689\\n> Pinson       256 309\\n> Yount        235 247 *\\n> KGibson      208 253 *\\n> Sandberg     205 297 *\\n> \\n> Players marked with an * are still active; numbers through 1991. That's  \\nonly\\n> 15; the 16th is probably Rickey Henderson, who was listed at 184 HR, 994\\n> SB or George Brett, listed as 186 SB, 291 HR.\\n> \\n> The surprises? Probably Reggie, Bayor, and Wynn for steals. Maybe Morgan  \\n(to\\n> a lot of people) for homers. I was kind of surprised to realize that\\n> Sandberg has that many steals, though I wasn't surprised that the number  \\nwas\\n> >200.\\n> \\n>  Mike Jones | AIX High-End Development |  \\nmjones@donald.aix.kingston.ibm.com\\n> \\n> Dreams are real while they last. Can we say more of life?\\n> \\t- Havelock Ellis\\n\"\n 'From: dsc@gemini.gsfc.nasa.gov (Doug S. Caprette)\\nSubject: CS chemical agent\\nOrganization: CDP VLBI\\nLines: 10\\n\\n\\n\\nCan anyone provide information on CS chemical agent--the tear gas used recently\\nin WACO.  Just what is it chemically, and what are its effects on the body?\\n\\ndsc@gemini.gsfc.nasa.gov  \\n |  Regards,         |   Hughes STX                |    Code 926.9 GSFC        |\\n |  Doug Caprette    |   Lanham, Maryland          |    Greenbelt, MD  20771   |\\n -------------------------------------------------------------------------------\\n\"A path is laid one stone at a time\" -- The Giant\\n'\n ''].\nReshape your data either using array.reshape(-1, 1) if your data has a single feature or array.reshape(1, -1) if it contains a single sample.",
     "output_type": "error",
     "traceback": [
      "\u001b[1;31m---------------------------------------------------------------------------\u001b[0m",
      "\u001b[1;31mValueError\u001b[0m                                Traceback (most recent call last)",
      "Cell \u001b[1;32mIn[33], line 23\u001b[0m\n\u001b[0;32m     20\u001b[0m classifier \u001b[38;5;241m=\u001b[39m MultinomialNB()\n\u001b[0;32m     22\u001b[0m model \u001b[38;5;241m=\u001b[39m make_pipeline(vectorizer, classifier) \u001b[38;5;66;03m#sujungia į vieną krūvą\u001b[39;00m\n\u001b[1;32m---> 23\u001b[0m \u001b[43mmodel\u001b[49m\u001b[38;5;241;43m.\u001b[39;49m\u001b[43mfit\u001b[49m\u001b[43m(\u001b[49m\u001b[43mstraipsniai\u001b[49m\u001b[43m,\u001b[49m\u001b[43m \u001b[49m\u001b[43mstraipsniu_kategorijos\u001b[49m\u001b[43m)\u001b[49m\n",
      "File \u001b[1;32mc:\\Users\\edita\\Documents\\KURSAI\\240319DMO492DIE\\mokymai\\Lib\\site-packages\\sklearn\\base.py:1474\u001b[0m, in \u001b[0;36m_fit_context.<locals>.decorator.<locals>.wrapper\u001b[1;34m(estimator, *args, **kwargs)\u001b[0m\n\u001b[0;32m   1467\u001b[0m     estimator\u001b[38;5;241m.\u001b[39m_validate_params()\n\u001b[0;32m   1469\u001b[0m \u001b[38;5;28;01mwith\u001b[39;00m config_context(\n\u001b[0;32m   1470\u001b[0m     skip_parameter_validation\u001b[38;5;241m=\u001b[39m(\n\u001b[0;32m   1471\u001b[0m         prefer_skip_nested_validation \u001b[38;5;129;01mor\u001b[39;00m global_skip_validation\n\u001b[0;32m   1472\u001b[0m     )\n\u001b[0;32m   1473\u001b[0m ):\n\u001b[1;32m-> 1474\u001b[0m     \u001b[38;5;28;01mreturn\u001b[39;00m \u001b[43mfit_method\u001b[49m\u001b[43m(\u001b[49m\u001b[43mestimator\u001b[49m\u001b[43m,\u001b[49m\u001b[43m \u001b[49m\u001b[38;5;241;43m*\u001b[39;49m\u001b[43margs\u001b[49m\u001b[43m,\u001b[49m\u001b[43m \u001b[49m\u001b[38;5;241;43m*\u001b[39;49m\u001b[38;5;241;43m*\u001b[39;49m\u001b[43mkwargs\u001b[49m\u001b[43m)\u001b[49m\n",
      "File \u001b[1;32mc:\\Users\\edita\\Documents\\KURSAI\\240319DMO492DIE\\mokymai\\Lib\\site-packages\\sklearn\\pipeline.py:471\u001b[0m, in \u001b[0;36mPipeline.fit\u001b[1;34m(self, X, y, **params)\u001b[0m\n\u001b[0;32m    428\u001b[0m \u001b[38;5;250m\u001b[39m\u001b[38;5;124;03m\"\"\"Fit the model.\u001b[39;00m\n\u001b[0;32m    429\u001b[0m \n\u001b[0;32m    430\u001b[0m \u001b[38;5;124;03mFit all the transformers one after the other and sequentially transform the\u001b[39;00m\n\u001b[1;32m   (...)\u001b[0m\n\u001b[0;32m    468\u001b[0m \u001b[38;5;124;03m    Pipeline with fitted steps.\u001b[39;00m\n\u001b[0;32m    469\u001b[0m \u001b[38;5;124;03m\"\"\"\u001b[39;00m\n\u001b[0;32m    470\u001b[0m routed_params \u001b[38;5;241m=\u001b[39m \u001b[38;5;28mself\u001b[39m\u001b[38;5;241m.\u001b[39m_check_method_params(method\u001b[38;5;241m=\u001b[39m\u001b[38;5;124m\"\u001b[39m\u001b[38;5;124mfit\u001b[39m\u001b[38;5;124m\"\u001b[39m, props\u001b[38;5;241m=\u001b[39mparams)\n\u001b[1;32m--> 471\u001b[0m Xt \u001b[38;5;241m=\u001b[39m \u001b[38;5;28;43mself\u001b[39;49m\u001b[38;5;241;43m.\u001b[39;49m\u001b[43m_fit\u001b[49m\u001b[43m(\u001b[49m\u001b[43mX\u001b[49m\u001b[43m,\u001b[49m\u001b[43m \u001b[49m\u001b[43my\u001b[49m\u001b[43m,\u001b[49m\u001b[43m \u001b[49m\u001b[43mrouted_params\u001b[49m\u001b[43m)\u001b[49m\n\u001b[0;32m    472\u001b[0m \u001b[38;5;28;01mwith\u001b[39;00m _print_elapsed_time(\u001b[38;5;124m\"\u001b[39m\u001b[38;5;124mPipeline\u001b[39m\u001b[38;5;124m\"\u001b[39m, \u001b[38;5;28mself\u001b[39m\u001b[38;5;241m.\u001b[39m_log_message(\u001b[38;5;28mlen\u001b[39m(\u001b[38;5;28mself\u001b[39m\u001b[38;5;241m.\u001b[39msteps) \u001b[38;5;241m-\u001b[39m \u001b[38;5;241m1\u001b[39m)):\n\u001b[0;32m    473\u001b[0m     \u001b[38;5;28;01mif\u001b[39;00m \u001b[38;5;28mself\u001b[39m\u001b[38;5;241m.\u001b[39m_final_estimator \u001b[38;5;241m!=\u001b[39m \u001b[38;5;124m\"\u001b[39m\u001b[38;5;124mpassthrough\u001b[39m\u001b[38;5;124m\"\u001b[39m:\n",
      "File \u001b[1;32mc:\\Users\\edita\\Documents\\KURSAI\\240319DMO492DIE\\mokymai\\Lib\\site-packages\\sklearn\\pipeline.py:408\u001b[0m, in \u001b[0;36mPipeline._fit\u001b[1;34m(self, X, y, routed_params)\u001b[0m\n\u001b[0;32m    406\u001b[0m     cloned_transformer \u001b[38;5;241m=\u001b[39m clone(transformer)\n\u001b[0;32m    407\u001b[0m \u001b[38;5;66;03m# Fit or load from cache the current transformer\u001b[39;00m\n\u001b[1;32m--> 408\u001b[0m X, fitted_transformer \u001b[38;5;241m=\u001b[39m \u001b[43mfit_transform_one_cached\u001b[49m\u001b[43m(\u001b[49m\n\u001b[0;32m    409\u001b[0m \u001b[43m    \u001b[49m\u001b[43mcloned_transformer\u001b[49m\u001b[43m,\u001b[49m\n\u001b[0;32m    410\u001b[0m \u001b[43m    \u001b[49m\u001b[43mX\u001b[49m\u001b[43m,\u001b[49m\n\u001b[0;32m    411\u001b[0m \u001b[43m    \u001b[49m\u001b[43my\u001b[49m\u001b[43m,\u001b[49m\n\u001b[0;32m    412\u001b[0m \u001b[43m    \u001b[49m\u001b[38;5;28;43;01mNone\u001b[39;49;00m\u001b[43m,\u001b[49m\n\u001b[0;32m    413\u001b[0m \u001b[43m    \u001b[49m\u001b[43mmessage_clsname\u001b[49m\u001b[38;5;241;43m=\u001b[39;49m\u001b[38;5;124;43m\"\u001b[39;49m\u001b[38;5;124;43mPipeline\u001b[39;49m\u001b[38;5;124;43m\"\u001b[39;49m\u001b[43m,\u001b[49m\n\u001b[0;32m    414\u001b[0m \u001b[43m    \u001b[49m\u001b[43mmessage\u001b[49m\u001b[38;5;241;43m=\u001b[39;49m\u001b[38;5;28;43mself\u001b[39;49m\u001b[38;5;241;43m.\u001b[39;49m\u001b[43m_log_message\u001b[49m\u001b[43m(\u001b[49m\u001b[43mstep_idx\u001b[49m\u001b[43m)\u001b[49m\u001b[43m,\u001b[49m\n\u001b[0;32m    415\u001b[0m \u001b[43m    \u001b[49m\u001b[43mparams\u001b[49m\u001b[38;5;241;43m=\u001b[39;49m\u001b[43mrouted_params\u001b[49m\u001b[43m[\u001b[49m\u001b[43mname\u001b[49m\u001b[43m]\u001b[49m\u001b[43m,\u001b[49m\n\u001b[0;32m    416\u001b[0m \u001b[43m\u001b[49m\u001b[43m)\u001b[49m\n\u001b[0;32m    417\u001b[0m \u001b[38;5;66;03m# Replace the transformer of the step with the fitted\u001b[39;00m\n\u001b[0;32m    418\u001b[0m \u001b[38;5;66;03m# transformer. This is necessary when loading the transformer\u001b[39;00m\n\u001b[0;32m    419\u001b[0m \u001b[38;5;66;03m# from the cache.\u001b[39;00m\n\u001b[0;32m    420\u001b[0m \u001b[38;5;28mself\u001b[39m\u001b[38;5;241m.\u001b[39msteps[step_idx] \u001b[38;5;241m=\u001b[39m (name, fitted_transformer)\n",
      "File \u001b[1;32mc:\\Users\\edita\\Documents\\KURSAI\\240319DMO492DIE\\mokymai\\Lib\\site-packages\\joblib\\memory.py:312\u001b[0m, in \u001b[0;36mNotMemorizedFunc.__call__\u001b[1;34m(self, *args, **kwargs)\u001b[0m\n\u001b[0;32m    311\u001b[0m \u001b[38;5;28;01mdef\u001b[39;00m \u001b[38;5;21m__call__\u001b[39m(\u001b[38;5;28mself\u001b[39m, \u001b[38;5;241m*\u001b[39margs, \u001b[38;5;241m*\u001b[39m\u001b[38;5;241m*\u001b[39mkwargs):\n\u001b[1;32m--> 312\u001b[0m     \u001b[38;5;28;01mreturn\u001b[39;00m \u001b[38;5;28;43mself\u001b[39;49m\u001b[38;5;241;43m.\u001b[39;49m\u001b[43mfunc\u001b[49m\u001b[43m(\u001b[49m\u001b[38;5;241;43m*\u001b[39;49m\u001b[43margs\u001b[49m\u001b[43m,\u001b[49m\u001b[43m \u001b[49m\u001b[38;5;241;43m*\u001b[39;49m\u001b[38;5;241;43m*\u001b[39;49m\u001b[43mkwargs\u001b[49m\u001b[43m)\u001b[49m\n",
      "File \u001b[1;32mc:\\Users\\edita\\Documents\\KURSAI\\240319DMO492DIE\\mokymai\\Lib\\site-packages\\sklearn\\pipeline.py:1303\u001b[0m, in \u001b[0;36m_fit_transform_one\u001b[1;34m(transformer, X, y, weight, message_clsname, message, params)\u001b[0m\n\u001b[0;32m   1301\u001b[0m \u001b[38;5;28;01mwith\u001b[39;00m _print_elapsed_time(message_clsname, message):\n\u001b[0;32m   1302\u001b[0m     \u001b[38;5;28;01mif\u001b[39;00m \u001b[38;5;28mhasattr\u001b[39m(transformer, \u001b[38;5;124m\"\u001b[39m\u001b[38;5;124mfit_transform\u001b[39m\u001b[38;5;124m\"\u001b[39m):\n\u001b[1;32m-> 1303\u001b[0m         res \u001b[38;5;241m=\u001b[39m \u001b[43mtransformer\u001b[49m\u001b[38;5;241;43m.\u001b[39;49m\u001b[43mfit_transform\u001b[49m\u001b[43m(\u001b[49m\u001b[43mX\u001b[49m\u001b[43m,\u001b[49m\u001b[43m \u001b[49m\u001b[43my\u001b[49m\u001b[43m,\u001b[49m\u001b[43m \u001b[49m\u001b[38;5;241;43m*\u001b[39;49m\u001b[38;5;241;43m*\u001b[39;49m\u001b[43mparams\u001b[49m\u001b[38;5;241;43m.\u001b[39;49m\u001b[43mget\u001b[49m\u001b[43m(\u001b[49m\u001b[38;5;124;43m\"\u001b[39;49m\u001b[38;5;124;43mfit_transform\u001b[39;49m\u001b[38;5;124;43m\"\u001b[39;49m\u001b[43m,\u001b[49m\u001b[43m \u001b[49m\u001b[43m{\u001b[49m\u001b[43m}\u001b[49m\u001b[43m)\u001b[49m\u001b[43m)\u001b[49m\n\u001b[0;32m   1304\u001b[0m     \u001b[38;5;28;01melse\u001b[39;00m:\n\u001b[0;32m   1305\u001b[0m         res \u001b[38;5;241m=\u001b[39m transformer\u001b[38;5;241m.\u001b[39mfit(X, y, \u001b[38;5;241m*\u001b[39m\u001b[38;5;241m*\u001b[39mparams\u001b[38;5;241m.\u001b[39mget(\u001b[38;5;124m\"\u001b[39m\u001b[38;5;124mfit\u001b[39m\u001b[38;5;124m\"\u001b[39m, {}))\u001b[38;5;241m.\u001b[39mtransform(\n\u001b[0;32m   1306\u001b[0m             X, \u001b[38;5;241m*\u001b[39m\u001b[38;5;241m*\u001b[39mparams\u001b[38;5;241m.\u001b[39mget(\u001b[38;5;124m\"\u001b[39m\u001b[38;5;124mtransform\u001b[39m\u001b[38;5;124m\"\u001b[39m, {})\n\u001b[0;32m   1307\u001b[0m         )\n",
      "File \u001b[1;32mc:\\Users\\edita\\Documents\\KURSAI\\240319DMO492DIE\\mokymai\\Lib\\site-packages\\sklearn\\utils\\_set_output.py:295\u001b[0m, in \u001b[0;36m_wrap_method_output.<locals>.wrapped\u001b[1;34m(self, X, *args, **kwargs)\u001b[0m\n\u001b[0;32m    293\u001b[0m \u001b[38;5;129m@wraps\u001b[39m(f)\n\u001b[0;32m    294\u001b[0m \u001b[38;5;28;01mdef\u001b[39;00m \u001b[38;5;21mwrapped\u001b[39m(\u001b[38;5;28mself\u001b[39m, X, \u001b[38;5;241m*\u001b[39margs, \u001b[38;5;241m*\u001b[39m\u001b[38;5;241m*\u001b[39mkwargs):\n\u001b[1;32m--> 295\u001b[0m     data_to_wrap \u001b[38;5;241m=\u001b[39m \u001b[43mf\u001b[49m\u001b[43m(\u001b[49m\u001b[38;5;28;43mself\u001b[39;49m\u001b[43m,\u001b[49m\u001b[43m \u001b[49m\u001b[43mX\u001b[49m\u001b[43m,\u001b[49m\u001b[43m \u001b[49m\u001b[38;5;241;43m*\u001b[39;49m\u001b[43margs\u001b[49m\u001b[43m,\u001b[49m\u001b[43m \u001b[49m\u001b[38;5;241;43m*\u001b[39;49m\u001b[38;5;241;43m*\u001b[39;49m\u001b[43mkwargs\u001b[49m\u001b[43m)\u001b[49m\n\u001b[0;32m    296\u001b[0m     \u001b[38;5;28;01mif\u001b[39;00m \u001b[38;5;28misinstance\u001b[39m(data_to_wrap, \u001b[38;5;28mtuple\u001b[39m):\n\u001b[0;32m    297\u001b[0m         \u001b[38;5;66;03m# only wrap the first output for cross decomposition\u001b[39;00m\n\u001b[0;32m    298\u001b[0m         return_tuple \u001b[38;5;241m=\u001b[39m (\n\u001b[0;32m    299\u001b[0m             _wrap_data_with_container(method, data_to_wrap[\u001b[38;5;241m0\u001b[39m], X, \u001b[38;5;28mself\u001b[39m),\n\u001b[0;32m    300\u001b[0m             \u001b[38;5;241m*\u001b[39mdata_to_wrap[\u001b[38;5;241m1\u001b[39m:],\n\u001b[0;32m    301\u001b[0m         )\n",
      "File \u001b[1;32mc:\\Users\\edita\\Documents\\KURSAI\\240319DMO492DIE\\mokymai\\Lib\\site-packages\\sklearn\\base.py:1101\u001b[0m, in \u001b[0;36mTransformerMixin.fit_transform\u001b[1;34m(self, X, y, **fit_params)\u001b[0m\n\u001b[0;32m   1098\u001b[0m     \u001b[38;5;28;01mreturn\u001b[39;00m \u001b[38;5;28mself\u001b[39m\u001b[38;5;241m.\u001b[39mfit(X, \u001b[38;5;241m*\u001b[39m\u001b[38;5;241m*\u001b[39mfit_params)\u001b[38;5;241m.\u001b[39mtransform(X)\n\u001b[0;32m   1099\u001b[0m \u001b[38;5;28;01melse\u001b[39;00m:\n\u001b[0;32m   1100\u001b[0m     \u001b[38;5;66;03m# fit method of arity 2 (supervised transformation)\u001b[39;00m\n\u001b[1;32m-> 1101\u001b[0m     \u001b[38;5;28;01mreturn\u001b[39;00m \u001b[38;5;28;43mself\u001b[39;49m\u001b[38;5;241;43m.\u001b[39;49m\u001b[43mfit\u001b[49m\u001b[43m(\u001b[49m\u001b[43mX\u001b[49m\u001b[43m,\u001b[49m\u001b[43m \u001b[49m\u001b[43my\u001b[49m\u001b[43m,\u001b[49m\u001b[43m \u001b[49m\u001b[38;5;241;43m*\u001b[39;49m\u001b[38;5;241;43m*\u001b[39;49m\u001b[43mfit_params\u001b[49m\u001b[43m)\u001b[49m\u001b[38;5;241m.\u001b[39mtransform(X)\n",
      "File \u001b[1;32mc:\\Users\\edita\\Documents\\KURSAI\\240319DMO492DIE\\mokymai\\Lib\\site-packages\\sklearn\\base.py:1474\u001b[0m, in \u001b[0;36m_fit_context.<locals>.decorator.<locals>.wrapper\u001b[1;34m(estimator, *args, **kwargs)\u001b[0m\n\u001b[0;32m   1467\u001b[0m     estimator\u001b[38;5;241m.\u001b[39m_validate_params()\n\u001b[0;32m   1469\u001b[0m \u001b[38;5;28;01mwith\u001b[39;00m config_context(\n\u001b[0;32m   1470\u001b[0m     skip_parameter_validation\u001b[38;5;241m=\u001b[39m(\n\u001b[0;32m   1471\u001b[0m         prefer_skip_nested_validation \u001b[38;5;129;01mor\u001b[39;00m global_skip_validation\n\u001b[0;32m   1472\u001b[0m     )\n\u001b[0;32m   1473\u001b[0m ):\n\u001b[1;32m-> 1474\u001b[0m     \u001b[38;5;28;01mreturn\u001b[39;00m \u001b[43mfit_method\u001b[49m\u001b[43m(\u001b[49m\u001b[43mestimator\u001b[49m\u001b[43m,\u001b[49m\u001b[43m \u001b[49m\u001b[38;5;241;43m*\u001b[39;49m\u001b[43margs\u001b[49m\u001b[43m,\u001b[49m\u001b[43m \u001b[49m\u001b[38;5;241;43m*\u001b[39;49m\u001b[38;5;241;43m*\u001b[39;49m\u001b[43mkwargs\u001b[49m\u001b[43m)\u001b[49m\n",
      "File \u001b[1;32mc:\\Users\\edita\\Documents\\KURSAI\\240319DMO492DIE\\mokymai\\Lib\\site-packages\\sklearn\\feature_extraction\\text.py:1664\u001b[0m, in \u001b[0;36mTfidfTransformer.fit\u001b[1;34m(self, X, y)\u001b[0m\n\u001b[0;32m   1646\u001b[0m \u001b[38;5;250m\u001b[39m\u001b[38;5;124;03m\"\"\"Learn the idf vector (global term weights).\u001b[39;00m\n\u001b[0;32m   1647\u001b[0m \n\u001b[0;32m   1648\u001b[0m \u001b[38;5;124;03mParameters\u001b[39;00m\n\u001b[1;32m   (...)\u001b[0m\n\u001b[0;32m   1659\u001b[0m \u001b[38;5;124;03m    Fitted transformer.\u001b[39;00m\n\u001b[0;32m   1660\u001b[0m \u001b[38;5;124;03m\"\"\"\u001b[39;00m\n\u001b[0;32m   1661\u001b[0m \u001b[38;5;66;03m# large sparse data is not supported for 32bit platforms because\u001b[39;00m\n\u001b[0;32m   1662\u001b[0m \u001b[38;5;66;03m# _document_frequency uses np.bincount which works on arrays of\u001b[39;00m\n\u001b[0;32m   1663\u001b[0m \u001b[38;5;66;03m# dtype NPY_INTP which is int32 for 32bit platforms. See #20923\u001b[39;00m\n\u001b[1;32m-> 1664\u001b[0m X \u001b[38;5;241m=\u001b[39m \u001b[38;5;28;43mself\u001b[39;49m\u001b[38;5;241;43m.\u001b[39;49m\u001b[43m_validate_data\u001b[49m\u001b[43m(\u001b[49m\n\u001b[0;32m   1665\u001b[0m \u001b[43m    \u001b[49m\u001b[43mX\u001b[49m\u001b[43m,\u001b[49m\u001b[43m \u001b[49m\u001b[43maccept_sparse\u001b[49m\u001b[38;5;241;43m=\u001b[39;49m\u001b[43m(\u001b[49m\u001b[38;5;124;43m\"\u001b[39;49m\u001b[38;5;124;43mcsr\u001b[39;49m\u001b[38;5;124;43m\"\u001b[39;49m\u001b[43m,\u001b[49m\u001b[43m \u001b[49m\u001b[38;5;124;43m\"\u001b[39;49m\u001b[38;5;124;43mcsc\u001b[39;49m\u001b[38;5;124;43m\"\u001b[39;49m\u001b[43m)\u001b[49m\u001b[43m,\u001b[49m\u001b[43m \u001b[49m\u001b[43maccept_large_sparse\u001b[49m\u001b[38;5;241;43m=\u001b[39;49m\u001b[38;5;129;43;01mnot\u001b[39;49;00m\u001b[43m \u001b[49m\u001b[43m_IS_32BIT\u001b[49m\n\u001b[0;32m   1666\u001b[0m \u001b[43m\u001b[49m\u001b[43m)\u001b[49m\n\u001b[0;32m   1667\u001b[0m \u001b[38;5;28;01mif\u001b[39;00m \u001b[38;5;129;01mnot\u001b[39;00m sp\u001b[38;5;241m.\u001b[39missparse(X):\n\u001b[0;32m   1668\u001b[0m     X \u001b[38;5;241m=\u001b[39m sp\u001b[38;5;241m.\u001b[39mcsr_matrix(X)\n",
      "File \u001b[1;32mc:\\Users\\edita\\Documents\\KURSAI\\240319DMO492DIE\\mokymai\\Lib\\site-packages\\sklearn\\base.py:633\u001b[0m, in \u001b[0;36mBaseEstimator._validate_data\u001b[1;34m(self, X, y, reset, validate_separately, cast_to_ndarray, **check_params)\u001b[0m\n\u001b[0;32m    631\u001b[0m         out \u001b[38;5;241m=\u001b[39m X, y\n\u001b[0;32m    632\u001b[0m \u001b[38;5;28;01melif\u001b[39;00m \u001b[38;5;129;01mnot\u001b[39;00m no_val_X \u001b[38;5;129;01mand\u001b[39;00m no_val_y:\n\u001b[1;32m--> 633\u001b[0m     out \u001b[38;5;241m=\u001b[39m \u001b[43mcheck_array\u001b[49m\u001b[43m(\u001b[49m\u001b[43mX\u001b[49m\u001b[43m,\u001b[49m\u001b[43m \u001b[49m\u001b[43minput_name\u001b[49m\u001b[38;5;241;43m=\u001b[39;49m\u001b[38;5;124;43m\"\u001b[39;49m\u001b[38;5;124;43mX\u001b[39;49m\u001b[38;5;124;43m\"\u001b[39;49m\u001b[43m,\u001b[49m\u001b[43m \u001b[49m\u001b[38;5;241;43m*\u001b[39;49m\u001b[38;5;241;43m*\u001b[39;49m\u001b[43mcheck_params\u001b[49m\u001b[43m)\u001b[49m\n\u001b[0;32m    634\u001b[0m \u001b[38;5;28;01melif\u001b[39;00m no_val_X \u001b[38;5;129;01mand\u001b[39;00m \u001b[38;5;129;01mnot\u001b[39;00m no_val_y:\n\u001b[0;32m    635\u001b[0m     out \u001b[38;5;241m=\u001b[39m _check_y(y, \u001b[38;5;241m*\u001b[39m\u001b[38;5;241m*\u001b[39mcheck_params)\n",
      "File \u001b[1;32mc:\\Users\\edita\\Documents\\KURSAI\\240319DMO492DIE\\mokymai\\Lib\\site-packages\\sklearn\\utils\\validation.py:1035\u001b[0m, in \u001b[0;36mcheck_array\u001b[1;34m(array, accept_sparse, accept_large_sparse, dtype, order, copy, force_all_finite, ensure_2d, allow_nd, ensure_min_samples, ensure_min_features, estimator, input_name)\u001b[0m\n\u001b[0;32m   1028\u001b[0m         \u001b[38;5;28;01melse\u001b[39;00m:\n\u001b[0;32m   1029\u001b[0m             msg \u001b[38;5;241m=\u001b[39m (\n\u001b[0;32m   1030\u001b[0m                 \u001b[38;5;124mf\u001b[39m\u001b[38;5;124m\"\u001b[39m\u001b[38;5;124mExpected 2D array, got 1D array instead:\u001b[39m\u001b[38;5;130;01m\\n\u001b[39;00m\u001b[38;5;124marray=\u001b[39m\u001b[38;5;132;01m{\u001b[39;00marray\u001b[38;5;132;01m}\u001b[39;00m\u001b[38;5;124m.\u001b[39m\u001b[38;5;130;01m\\n\u001b[39;00m\u001b[38;5;124m\"\u001b[39m\n\u001b[0;32m   1031\u001b[0m                 \u001b[38;5;124m\"\u001b[39m\u001b[38;5;124mReshape your data either using array.reshape(-1, 1) if \u001b[39m\u001b[38;5;124m\"\u001b[39m\n\u001b[0;32m   1032\u001b[0m                 \u001b[38;5;124m\"\u001b[39m\u001b[38;5;124myour data has a single feature or array.reshape(1, -1) \u001b[39m\u001b[38;5;124m\"\u001b[39m\n\u001b[0;32m   1033\u001b[0m                 \u001b[38;5;124m\"\u001b[39m\u001b[38;5;124mif it contains a single sample.\u001b[39m\u001b[38;5;124m\"\u001b[39m\n\u001b[0;32m   1034\u001b[0m             )\n\u001b[1;32m-> 1035\u001b[0m         \u001b[38;5;28;01mraise\u001b[39;00m \u001b[38;5;167;01mValueError\u001b[39;00m(msg)\n\u001b[0;32m   1037\u001b[0m \u001b[38;5;28;01mif\u001b[39;00m dtype_numeric \u001b[38;5;129;01mand\u001b[39;00m \u001b[38;5;28mhasattr\u001b[39m(array\u001b[38;5;241m.\u001b[39mdtype, \u001b[38;5;124m\"\u001b[39m\u001b[38;5;124mkind\u001b[39m\u001b[38;5;124m\"\u001b[39m) \u001b[38;5;129;01mand\u001b[39;00m array\u001b[38;5;241m.\u001b[39mdtype\u001b[38;5;241m.\u001b[39mkind \u001b[38;5;129;01min\u001b[39;00m \u001b[38;5;124m\"\u001b[39m\u001b[38;5;124mUSV\u001b[39m\u001b[38;5;124m\"\u001b[39m:\n\u001b[0;32m   1038\u001b[0m     \u001b[38;5;28;01mraise\u001b[39;00m \u001b[38;5;167;01mValueError\u001b[39;00m(\n\u001b[0;32m   1039\u001b[0m         \u001b[38;5;124m\"\u001b[39m\u001b[38;5;124mdtype=\u001b[39m\u001b[38;5;124m'\u001b[39m\u001b[38;5;124mnumeric\u001b[39m\u001b[38;5;124m'\u001b[39m\u001b[38;5;124m is not compatible with arrays of bytes/strings.\u001b[39m\u001b[38;5;124m\"\u001b[39m\n\u001b[0;32m   1040\u001b[0m         \u001b[38;5;124m\"\u001b[39m\u001b[38;5;124mConvert your data to numeric values explicitly instead.\u001b[39m\u001b[38;5;124m\"\u001b[39m\n\u001b[0;32m   1041\u001b[0m     )\n",
      "\u001b[1;31mValueError\u001b[0m: Expected 2D array, got 1D array instead:\narray=[\"From: ab961@Freenet.carleton.ca (Robert Allison)\\nSubject: Bursitis and laser treatment\\nReply-To: ab961@Freenet.carleton.ca (Robert Allison)\\nOrganization: The National Capital Freenet\\nLines: 20\\n\\n\\nMy family doctor and the physiotherapist (PT) she sent me to agree that the\\npain in my left shoulder is bursitis. I have an appointment with an orthpod\\n(I love that, it's short for 'orthopedic surgeon, apparently) but while I'm\\nwaiting the PT is treating me.\\n\\nShe's using hot packs, ultrasound, and lasers, but there's no improvement\\nyet. In fact, I almost suspect it's getting worse.\\n\\nMy real question is about the laser treatment. I can't easily imagine what\\nthe physical effect that could have on a deep tissue problem. Can anyone\\nshed some light (so to speak) on the matter?\\n-- \\nRobert Allison\\nOttawa, Ontario CANADA\\n\"\n \"From: jge@cs.unc.edu (John Eyles)\\nSubject: tick fever (aka rocky mtn spotted)\\nOrganization: The University of North Carolina at Chapel Hill\\nLines: 22\\nDistribution: usa\\nNNTP-Posting-Host: ceti.cs.unc.edu\\n\\nAny rocky mountain spotted fever experts out there ?\\n\\nThe doctor thinks a friend might have this.\\nThe question is, doesn't the tick have to bite you ?\\n\\nYou frequently find a tick crawling on you after a walk\\nin the woods around here, but you tend to notice it before\\nit bites you; pulling one out of your skin is something\\nyou're not likely to forget.\\n\\nCan you get the fever without it biting you ?  Do they\\nsometimes bite you and then let go so you don't realize\\nyou were bitten ?  I know they will let go once they've had\\ntheir fill, but you certainly would notice this (arggh).\\n\\nSo how do you get the fever if you never pulled a tick\\noff yourself (as opposed to finding one merely crawling\\non you) ?\\n\\nJohn Eyles\\njge@cs.unc.edu\\n\\n\"\n \"From: king@cogsci.ucsd.edu (Jonathan King)\\nSubject: A Move we won't see (was Why The RedFlops Can(but won't) win.....)\\nOrganization: University of California, San Diego\\nLines: 14\\nNNTP-Posting-Host: cogsci.ucsd.edu\\nSummary: it would be tragic if ted simmons were to pick up mo vaughn\\n\\nstwombly@cs.ulowell.edu (Steve Twombly) writes:\\n>1.  Mo Vaughn CAN hit .400 in the spring.\\n>1b. Mo Vaughn CAN Only hit .230 during the season.\\n\\nExcellent point.  I hope to God that Ted Simmons doesn't get the weird\\nidea of trading for the guy.  And if he does, he had better not\\ninclude Jeff King in the deal.  Oh God--what if he traded Zane Smith\\nand Jeff King for Vaughn and Greg Blosser?  It would be worse than The\\nNichols Curse!\\n\\nHmm, I guess that doesn't sound sincere enough.  Oh well, at least I\\ntried...\\n\\njking\\n\"\n ...\n \"From: luriem@alleg.edu(Michael Lurie) The Liberalizer\\nSubject: Winfield has Re: 200 SBs & 200 HRs\\nOrganization: Allegheny College\\nLines: 47\\n\\nIn article <mjones.735584681@fenway> mjones@fenway.aix.kingston.ibm.com  \\n(Mike Jones) writes:\\n> dans@fore.csd.sgi.com (Dan Steinman) writes:\\n> >Last night on the Giants/Mets radio broadcast Hank and Ted were\\n> >discussing the fact that there were only 16 players who had ever hit\\n> >200 homeruns and stolen 200 bases in their career (while HoJo was\\n> >batting).  Anyone have a list?  Not as easy as it sounds to come up\\n> >with all of them.  I couldn't.  Mays, Mantle, Aaron, Henderson, Morgan,\\n> >Bonds (Dad), ???  Frank Robinson?  Molitor?  Yount?  Guessing now.  I'd\\n> >be interested to see the whole list.\\n> \\n> First, please watch your line lengths. Not everyone has autowrap. \\n> Second, Franklin to the rescue! Here's the list:\\n> Player        HR  SB\\n> Aaron        755 240\\n> Mays         660 338\\n> FRobinson    586 204\\n> RJackson     563 228\\n> Winfield     406 216 *\\n> Dawson       377 304 *\\n> Baylor       338 285\\n> BoBonds      332 461\\n> Wynn         291 225\\n> Strawberry   280 201 *\\n> Morgan       268 689\\n> Pinson       256 309\\n> Yount        235 247 *\\n> KGibson      208 253 *\\n> Sandberg     205 297 *\\n> \\n> Players marked with an * are still active; numbers through 1991. That's  \\nonly\\n> 15; the 16th is probably Rickey Henderson, who was listed at 184 HR, 994\\n> SB or George Brett, listed as 186 SB, 291 HR.\\n> \\n> The surprises? Probably Reggie, Bayor, and Wynn for steals. Maybe Morgan  \\n(to\\n> a lot of people) for homers. I was kind of surprised to realize that\\n> Sandberg has that many steals, though I wasn't surprised that the number  \\nwas\\n> >200.\\n> \\n>  Mike Jones | AIX High-End Development |  \\nmjones@donald.aix.kingston.ibm.com\\n> \\n> Dreams are real while they last. Can we say more of life?\\n> \\t- Havelock Ellis\\n\"\n 'From: dsc@gemini.gsfc.nasa.gov (Doug S. Caprette)\\nSubject: CS chemical agent\\nOrganization: CDP VLBI\\nLines: 10\\n\\n\\n\\nCan anyone provide information on CS chemical agent--the tear gas used recently\\nin WACO.  Just what is it chemically, and what are its effects on the body?\\n\\ndsc@gemini.gsfc.nasa.gov  \\n |  Regards,         |   Hughes STX                |    Code 926.9 GSFC        |\\n |  Doug Caprette    |   Lanham, Maryland          |    Greenbelt, MD  20771   |\\n -------------------------------------------------------------------------------\\n\"A path is laid one stone at a time\" -- The Giant\\n'\n ''].\nReshape your data either using array.reshape(-1, 1) if your data has a single feature or array.reshape(1, -1) if it contains a single sample."
     ]
    }
   ],
   "source": [
    "# mano\n",
    "from sklearn.feature_extraction.text import TfidfTransformer # konvertavimo modelis\n",
    "from sklearn.naive_bayes import MultinomialNB # sprendimo priėmėjas, kuris mokosi\n",
    "from sklearn.pipeline import make_pipeline\n",
    "\n",
    "\n",
    "with open('data.txt', 'r', encoding='utf-8') as f:\n",
    "    straipsniai = f.read()\n",
    "# straipsniai.pop\n",
    "\n",
    "straipsniai = straipsniai.split('ą')\n",
    "\n",
    "\n",
    "with open('target.txt', 'r', encoding='utf-8') as f:\n",
    "    straipsniu_kategorijos = f.read()\n",
    "\n",
    "straipsniu_kategorijos = straipsniu_kategorijos.replace(\"[\",\"\").replace(\"[\", \"\").split(\",\")\n",
    "print(straipsniai[-1])\n",
    "\n",
    "vectorizer = TfidfTransformer()\n",
    "classifier = MultinomialNB()\n",
    "\n",
    "model = make_pipeline(vectorizer, classifier) #sujungia į vieną krūvą\n",
    "model.fit(straipsniai, straipsniu_kategorijos)\n",
    "\n"
   ]
  }
 ],
 "metadata": {
  "kernelspec": {
   "display_name": "mokymai",
   "language": "python",
   "name": "python3"
  },
  "language_info": {
   "codemirror_mode": {
    "name": "ipython",
    "version": 3
   },
   "file_extension": ".py",
   "mimetype": "text/x-python",
   "name": "python",
   "nbconvert_exporter": "python",
   "pygments_lexer": "ipython3",
   "version": "3.12.2"
  }
 },
 "nbformat": 4,
 "nbformat_minor": 2
}
