{
 "cells": [
  {
   "cell_type": "code",
   "execution_count": 1,
   "metadata": {},
   "outputs": [
    {
     "name": "stdout",
     "output_type": "stream",
     "text": [
      "1.0\n"
     ]
    }
   ],
   "source": [
    "import pdfplumber\n",
    "from sklearn.model_selection import train_test_split\n",
    "from sklearn.feature_extraction.text import TfidfVectorizer\n",
    "from sklearn.naive_bayes import MultinomialNB\n",
    "from sklearn.metrics import accuracy_score\n",
    "from sklearn.pipeline import make_pipeline\n",
    "\n",
    "def skaityti_pdf(kelias_iki_pdf):\n",
    "    tekstas = []\n",
    "    with pdfplumber.open(kelias_iki_pdf) as pdf:\n",
    "        for puslapis in pdf.pages:\n",
    "            puslapio_tekstas = puslapis.extract_text()\n",
    "            if puslapio_tekstas:\n",
    "                tekstas.append(puslapio_tekstas)\n",
    "    return tekstas\n",
    "\n",
    "def tvarkyti_teksta(tekstas):\n",
    "    sutvarkyti_puslapiai = [puslapis.replace(\"-\\n\", \"\").replace(\"\\n\", \" \") for puslapis in tekstas]\n",
    "    return sutvarkyti_puslapiai\n",
    "\n",
    "lietuviskas_tekstas = skaityti_pdf('baltaragio_malunas.pdf')\n",
    "lietuviski_puslapiai = lietuviskas_tekstas[3:]\n",
    "angliskas_tekstas = skaityti_pdf('SherlockHolmesComplete.pdf')\n",
    "angliski_puslapiai = angliskas_tekstas\n",
    "\n",
    "sutvarkyti_en_puslapiai = tvarkyti_teksta(angliski_puslapiai)\n",
    "\n",
    "sutvarkyti_lt_puslapiai = tvarkyti_teksta(lietuviski_puslapiai)\n",
    "\n",
    "lt_labels = [\"lt\" for puslapis in sutvarkyti_lt_puslapiai]\n",
    "en_labels = [\"en\" for puslapis in sutvarkyti_en_puslapiai]\n",
    "\n",
    "lt_en_puslapiai = sutvarkyti_lt_puslapiai + sutvarkyti_en_puslapiai\n",
    "lt_en_labels = lt_labels + en_labels\n",
    "\n",
    "X_train, X_test, y_train, y_test = train_test_split(lt_en_puslapiai, lt_en_labels, random_state=42)\n",
    "\n",
    "model = make_pipeline(TfidfVectorizer(), MultinomialNB())\n",
    "model.fit(X_train, y_train)\n",
    "\n",
    "y_pred = model.predict(X_test)\n",
    "print(accuracy_score(y_pred, y_test))\n",
    "\n"
   ]
  },
  {
   "cell_type": "code",
   "execution_count": 2,
   "metadata": {},
   "outputs": [
    {
     "name": "stdout",
     "output_type": "stream",
     "text": [
      "1.0\n"
     ]
    }
   ],
   "source": [
    "X_train, X_test, y_train, y_test = train_test_split(lt_en_puslapiai, lt_en_labels, random_state=42)\n",
    "\n",
    "model = make_pipeline(TfidfVectorizer(), MultinomialNB())\n",
    "model.fit(X_train, y_train)\n",
    "\n",
    "y_pred = model.predict(X_test)\n",
    "print(accuracy_score(y_pred, y_test))"
   ]
  },
  {
   "cell_type": "code",
   "execution_count": 3,
   "metadata": {},
   "outputs": [
    {
     "name": "stdout",
     "output_type": "stream",
     "text": [
      "['en']\n",
      "['en']\n",
      "['en']\n",
      "['en']\n"
     ]
    }
   ],
   "source": [
    "def atspek_kalba(tekstas):\n",
    "    return model.predict([tekstas])\n",
    "\n",
    "print(atspek_kalba('ačiū, laba diena, man patinka šaltibarščiai'))\n",
    "print(atspek_kalba('thanks'))\n",
    "print(atspek_kalba('hello, how are you?'))\n",
    "print(atspek_kalba('a little dog'))"
   ]
  }
 ],
 "metadata": {
  "kernelspec": {
   "display_name": "venv",
   "language": "python",
   "name": "python3"
  },
  "language_info": {
   "codemirror_mode": {
    "name": "ipython",
    "version": 3
   },
   "file_extension": ".py",
   "mimetype": "text/x-python",
   "name": "python",
   "nbconvert_exporter": "python",
   "pygments_lexer": "ipython3",
   "version": "3.12.2"
  }
 },
 "nbformat": 4,
 "nbformat_minor": 2
}
