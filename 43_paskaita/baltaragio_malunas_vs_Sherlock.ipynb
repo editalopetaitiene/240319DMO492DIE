{
 "cells": [
  {
   "cell_type": "code",
   "execution_count": null,
   "metadata": {},
   "outputs": [],
   "source": [
    "import pdfplumber\n",
    "\n",
    "def skaityti_pdf(kelias_iki_pdf):\n",
    "    tekstas = \"\"\n",
    "    page = 0\n",
    "    with pdfplumber.open(kelias_iki_pdf) as pdf:\n",
    "        for puslapis in pdf.pages:\n",
    "            page+=1\n",
    "            puslapio_tekstas = puslapis.extract_text()\n",
    "            if puslapio_tekstas:\n",
    "                tekstas  += puslapio_tekstas + \"**********\"\n",
    "            if page > 400:\n",
    "                break\n",
    "    return tekstas\n",
    "\n",
    "\n",
    "lt_text = skaityti_pdf('baltaragio_malunas.pdf')\n",
    "lt_pages = lt_text.replace('\\n', ' ').replace(',', '').replace('- ', '').split(\"**********\")[3:]\n",
    "\n",
    "en_text = skaityti_pdf('SherlockHolmesComplete.pdf')\n",
    "en_pages = en_text.replace('\\n', ' ').replace(',', '').replace('- ', '').split(\"**********\")[11:]\n",
    "\n",
    "en_pages = en_pages[:len(lt_pages)]\n",
    "\n",
    "lt_labels, en_labels = [], []\n",
    "for page in lt_pages:\n",
    "    lt_labels.append(\"lt\")\n",
    "    en_labels.append(\"en\")\t\n",
    "\n",
    "\n",
    "from sklearn.model_selection import train_test_split\n",
    "from sklearn.pipeline import make_pipeline\n",
    "from sklearn.feature_extraction.text import TfidfVectorizer\n",
    "from sklearn.naive_bayes import MultinomialNB\n",
    "from sklearn.metrics import accuracy_score\n",
    "from sklearn.metrics import classification_report\n",
    "\n",
    "lt_en_texts = lt_pages + en_pages\n",
    "lt_en_labels = lt_labels + en_labels\n",
    "\n",
    "X_train, X_test, y_train, y_test = train_test_split(lt_en_texts, lt_en_labels, test_size=0.2, random_state=0)\n",
    "\n",
    "model = make_pipeline(TfidfVectorizer(), MultinomialNB())\n",
    "model.fit(X_train, y_train)\n",
    "\n",
    "y_pred = model.predict(X_test)\n",
    "\n",
    "print(accuracy_score(y_pred, y_test))\n",
    "print(\"Classification Report:\\n\", classification_report(y_test, y_pred, zero_division=0))"
   ]
  }
 ],
 "metadata": {
  "language_info": {
   "name": "python"
  }
 },
 "nbformat": 4,
 "nbformat_minor": 2
}
