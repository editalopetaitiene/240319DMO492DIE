{
 "cells": [
  {
   "cell_type": "code",
   "execution_count": null,
   "metadata": {},
   "outputs": [],
   "source": [
    "## 2 Užduotis\n",
    "\n",
    "Užduotis 2: K-vidurkių klasterizavimo užduotis\n",
    "\n",
    "Duota gyventojų duomenų rinkinys, kuriame kiekvienas gyventojas yra nurodytas su jo amžiumi ir pajamomis. Užduotis yra suskirstyti gyventojus į klasterius pagal jų amžių ir pajamas.\n",
    "\n",
    "Duomenų pavyzdys:\n",
    "\n",
    "Gyventojas 1: {amžius: 35 metai, pajamos: 30000€}\n",
    "Gyventojas 2: {amžius: 50 metai, pajamos: 45000€}\n",
    "Gyventojas 3: {amžius: 25 metai, pajamos: 25000€}\n",
    "ir tt.\n",
    "Galimi sprendimo variantai:\n",
    "\n",
    "Naudojant K-vidurkių klasterizavimą, gyventojai gali būti suskirstyti į klasterius pagal jų amžių ir pajamas.\n",
    "Po klasterizavimo galima vizualizuoti klasterius ir jų centroidus, kad būtų lengviau interpretuoti gautus rezultatus."
   ]
  },
  {
   "cell_type": "code",
   "execution_count": null,
   "metadata": {},
   "outputs": [],
   "source": [
    "# German variantas\n",
    "data = pd.read_csv('uzduotis2.csv')\n",
    "scaler = StandardScaler()\n",
    "scaled_data = scaler.fit_transform(data.iloc[:, 1:])\n",
    "model = AgglomerativeClustering(n_clusters=4, linkage='ward')\n",
    "model.fit(scaled_data)\n",
    "labels = model.labels_\n",
    "# plt.scatter(scaled_data[:,0], scaled_data[:,1], c=labels, cmap='rainbow' )\n",
    "# plt.show()\n",
    "\n",
    "# plt.scatter(data['amzius'], data['pajamos'], c=labels, cmap='rainbow' )\n",
    "# plt.show()\n",
    "plt.scatter(data.iloc[:,1], data.iloc[:,2], c=labels, cmap='rainbow' )\n",
    "plt.show()"
   ]
  }
 ],
 "metadata": {
  "kernelspec": {
   "display_name": "mokymai",
   "language": "python",
   "name": "python3"
  },
  "language_info": {
   "name": "python",
   "version": "3.12.2"
  }
 },
 "nbformat": 4,
 "nbformat_minor": 2
}
