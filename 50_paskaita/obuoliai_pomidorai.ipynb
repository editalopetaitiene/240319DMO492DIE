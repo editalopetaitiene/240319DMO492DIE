{
 "cells": [
  {
   "cell_type": "code",
   "execution_count": 3,
   "metadata": {},
   "outputs": [],
   "source": [
    "import os\n",
    "import random \n",
    "import shutil \n",
    "\n",
    "# nurodome kelią į katalogus\n",
    "data_dir = 'tomatoes_apples'\n",
    "pomidorai_dir = os.path.join(data_dir, 'tomatoes')\n",
    "obuoliai_dir = os.path.join(data_dir, 'apples')\n",
    "\n",
    "# aprašysim, kokia dalis tenka mokymui, testams ir validacijai\n",
    "splits = (0.7, 0.15, 0.15)\n",
    "\n",
    "def split_data(directory, splits):\n",
    "    \"\"\" \n",
    "    Funkcija yra skirta suskaidyti pateiktam kataloge esančias nuotraukas į tris naujus katalogus, pagal pateiktus išskaidymo dydžius\n",
    "    Parametrai:\n",
    "    directory = nuoroda iki failo kurį norite skaidyti\n",
    "    splits = tuple, su nurodytais kiekiais mokymui, testavimui, validacijai\n",
    "    \"\"\"\n",
    "    images = os.listdir(directory) #gauname visas nuotraukas\n",
    "    random.shuffle(images) #išmaišome nuotraukas, siekiant skirtingu paleidimu metu turėti skirtingus numerius\n",
    "    # print(images)\n",
    "    train_size = int(len(images) * splits[0]) # sužinoma kiekius, kiek nuotraukų reikės mokymams\n",
    "    validation_size = int(len(images) * splits[1])\n",
    "    test_size = int(len(images) * splits[2])\n",
    "    # print(train_size)\n",
    "    # print(validation_size)\n",
    "    # print(test_size)\n",
    "    \n",
    "    # katalogų nuorodų sukūrimas\n",
    "    train_dir = os.path.join(directory, 'train')\n",
    "    validation_dir = os.path.join(directory, 'validation')\n",
    "    test_dir = os.path.join(directory, 'test')\n",
    "\n",
    "    # os.removedirs(train_dir)\n",
    "    # os.removedirs(validation_dir)\n",
    "    # os.removedirs(test_dir)\n",
    "\n",
    "    # TODO: sunaikinti katalogus, prieš tai sunaikinant turinį juose\n",
    "    \n",
    "    # katalogų sukūrimas pagal pateiktas nuorodas\n",
    "    os.makedirs(train_dir, exist_ok=True)\n",
    "    os.makedirs(validation_dir, exist_ok=True)\n",
    "    os.makedirs(test_dir, exist_ok=True)\n",
    "\n",
    "    for i, image in enumerate(images):\n",
    "        if i < train_size:\n",
    "            shutil.copy(os.path.join(directory, image), os.path.join(train_dir, image))\n",
    "        elif i < train_size + validation_size:\n",
    "            shutil.copy(os.path.join(directory, image), os.path.join(validation_dir, image))\n",
    "        else:\n",
    "            shutil.copy(os.path.join(directory, image), os.path.join(test_dir, image))\n",
    "\n",
    "       \n",
    "split_data(pomidorai_dir, splits)\n",
    "split_data(obuoliai_dir, splits)\n"
   ]
  },
  {
   "cell_type": "code",
   "execution_count": 4,
   "metadata": {},
   "outputs": [],
   "source": [
    "# pasiekti nuotraukas\n",
    "# patikrinti ar nuotrauka validi\n",
    "# suvienodinti nuotraukas \n",
    "\n",
    "import os\n",
    "from PIL import Image\n",
    "\n",
    "data_dir = 'tomatoes_apples'\n",
    "pomidorai_dir = os.path.join(data_dir, 'tomatoes')\n",
    "obuoliai_dir = os.path.join(data_dir, 'apples')\n",
    "\n",
    "# skirta patikrinti ar negausime klaidos, kaip argumentą pateikiame kelią iki nuotraukos\n",
    "def is_valid_image(file_path):\n",
    "    try:\n",
    "        with Image.open(file_path) as img:    \n",
    "            img.verify() # patikrina ar nuotrauką galima atidaryti\n",
    "        return True\n",
    "    except (IOError, SyntaxError):\n",
    "        return False\n",
    "    \n",
    "def get_valid_image_files(directory):\n",
    "    \"\"\"\n",
    "    Skirta direktorijoje esančius failus, patikrinti ar jie yra validūs. \n",
    "    Rezultatas - failų pavadinimų sąrašas, su validžių failų pavadinimas\n",
    "    \"\"\"\n",
    "    valid_files = []\n",
    "    # naudojame _, nes neketiname naudoti katalogų train, test ir validation\n",
    "    for root, _, files in os.walk(directory):\n",
    "        if root != directory:\n",
    "        # panaikinti pirma direktorija\n",
    "        # file = files[1:]\n",
    "            for file in files:\n",
    "                file_path = os.path.join(root, file)\n",
    "                if is_valid_image(file_path):\n",
    "                    valid_files.append(file_path)\n",
    "    return valid_files\n",
    "\n",
    "valid_pomidorai_photos = get_valid_image_files(pomidorai_dir)\n",
    "valid_obuoliai_photos = get_valid_image_files(obuoliai_dir)\n",
    "\n"
   ]
  },
  {
   "cell_type": "code",
   "execution_count": 6,
   "metadata": {},
   "outputs": [
    {
     "name": "stdout",
     "output_type": "stream",
     "text": [
      "Found 173 validated image filenames.\n",
      "Found 218 validated image filenames.\n"
     ]
    }
   ],
   "source": [
    "from tensorflow.keras.preprocessing.image import ImageDataGenerator\n",
    "import pandas as pd\n",
    "\n",
    "# naudojame siekiant sumažinti pixelių vertes iš intervalo 0-255 į intervalą 0-1\n",
    "datagen = ImageDataGenerator(rescale=1./255)\n",
    "# kuriame data frame, nes tai yra būdas perteikti informaciją generatoriui\n",
    "pomidorai_df = pd.DataFrame({'filename':valid_pomidorai_photos})\n",
    "obuoliai_df = pd.DataFrame({'filename':valid_obuoliai_photos})\n",
    "\n",
    "pomidorai_generator = datagen.flow_from_dataframe(\n",
    "    dataframe = pomidorai_df, #nurodome, kur yra musu nuotrauku sarasas\n",
    "    x_col='filename', #nurodome, kuris stulpelis yra failo kelias musu df\n",
    "    target_size = (150,150), #nurodome nuotraukų dydžius apkerpa, bet nesuspaudžia\n",
    "    batch_size = 20, #nurodome, kiek nuotraukų įdėsime kiekvienos iteracijos metu\n",
    "    class_mode = None) #turime tik du galimus outputus, todėl class mode nustatome none\n",
    "\n",
    "obuoliai_generator = datagen.flow_from_dataframe(\n",
    "    dataframe = obuoliai_df, #nurodome, kur yra musu nuotrauku sarasas\n",
    "    x_col='filename', #nurodome, kuris stulpelis yra failo kelias musu df\n",
    "    target_size = (150,150), #nurodome nuotraukų dydžius\n",
    "    batch_size = 20, #nurodome, kiek nuotraukų įdėsime kiekvienos iteracijos metu\n",
    "    class_mode = None) #turime tik du galimus outputus, todėl class mode nustatome none"
   ]
  },
  {
   "cell_type": "code",
   "execution_count": 20,
   "metadata": {},
   "outputs": [],
   "source": [
    "from tensorflow.keras.utils import Sequence\n",
    "import numpy as np\n",
    "# kuriame šią klase tam, kad turėtume galimybę training matricas pateikti gabalais(batches)\n",
    "class CombinedGenerator(Sequence):\n",
    "    def __init__(self, *generators):\n",
    "        self.generators =generators\n",
    "        self._num_batches = sum(len(gen) for gen in generators)\n",
    "        self.current_generator = 0\n",
    "\n",
    "    def __len__(self):\n",
    "        return self._num_batches\n",
    "    \n",
    "    def __getitem__(self, idx):\n",
    "        for gen in self.generators:\n",
    "            if idx < len(gen):\n",
    "                batch = gen[idx]\n",
    "                # generuojame labels, atsižvelgdami į tai, kiek narių turime savo batche\n",
    "                labels = np.array([0]*batch.shape[0] if gen == pomidorai_generator else np.array([1] * batch.shape[0]))\n",
    "                return batch, labels\n",
    "            idx -= len(gen)            \n",
    "    \n",
    "combined_generator = CombinedGenerator(pomidorai_generator, obuoliai_generator) "
   ]
  },
  {
   "cell_type": "code",
   "execution_count": 21,
   "metadata": {},
   "outputs": [
    {
     "name": "stderr",
     "output_type": "stream",
     "text": [
      "c:\\Users\\edita\\Documents\\KURSAI\\240319DMO492DIE\\mokymai\\Lib\\site-packages\\keras\\src\\layers\\convolutional\\base_conv.py:107: UserWarning: Do not pass an `input_shape`/`input_dim` argument to a layer. When using Sequential models, prefer using an `Input(shape)` object as the first layer in the model instead.\n",
      "  super().__init__(activity_regularizer=activity_regularizer, **kwargs)\n"
     ]
    }
   ],
   "source": [
    "from tensorflow.keras import datasets, layers, models\n",
    "\n",
    "model = models.Sequential((\n",
    "    layers.Conv2D(32, (3,3), activation = 'relu', input_shape=(150, 150, 3)), #nurodom filtrus ir jų dydžių dimensiją(3,3)\n",
    "    layers.MaxPooling2D(2,2), #sumažinam dimensijas, išlaikant svarbiausias savybes\n",
    "    layers.Conv2D(64, (3, 3), activation='relu'), #antras konvoliucinis sluoksnis\n",
    "    layers.MaxPooling2D((2,2)),  #sumažinam dimensijas, išlaikant svarbiausias savybes\n",
    "    layers.Conv2D(128, (3,3), activation='relu'), \n",
    "    layers.MaxPooling2D((2,2)),  #sumažinam dimensijas, išlaikant svarbiausias savybes\n",
    "    layers.Flatten(), #plokštinam duomenis, paversdami iš 3D į 1D\n",
    "    layers.Dense(512, activation='relu'),\n",
    "    layers.Dense(1, activation='sigmoid') # išėjimo sluoksnis su vienu neuronu, gražins tikimybę nou 0 iki 1  \n",
    "\n",
    "))"
   ]
  },
  {
   "cell_type": "code",
   "execution_count": 22,
   "metadata": {},
   "outputs": [],
   "source": [
    "model.compile(\n",
    "    optimizer = 'adam', \n",
    "    loss='binary_crossentropy', #taikome, nes musu klasifikuojami bus 0 arba 1\n",
    "    metrics=['accuracy']\n",
    ")"
   ]
  },
  {
   "cell_type": "code",
   "execution_count": 23,
   "metadata": {},
   "outputs": [
    {
     "name": "stdout",
     "output_type": "stream",
     "text": [
      "Epoch 1/5\n"
     ]
    },
    {
     "name": "stderr",
     "output_type": "stream",
     "text": [
      "c:\\Users\\edita\\Documents\\KURSAI\\240319DMO492DIE\\mokymai\\Lib\\site-packages\\keras\\src\\trainers\\data_adapters\\py_dataset_adapter.py:121: UserWarning: Your `PyDataset` class should call `super().__init__(**kwargs)` in its constructor. `**kwargs` can include `workers`, `use_multiprocessing`, `max_queue_size`. Do not pass these arguments to `fit()`, as they will be ignored.\n",
      "  self._warn_if_super_not_called()\n"
     ]
    },
    {
     "name": "stdout",
     "output_type": "stream",
     "text": [
      "\u001b[1m20/20\u001b[0m \u001b[32m━━━━━━━━━━━━━━━━━━━━\u001b[0m\u001b[37m\u001b[0m \u001b[1m20s\u001b[0m 761ms/step - accuracy: 0.5321 - loss: 3.3769\n",
      "Epoch 2/5\n",
      "\u001b[1m20/20\u001b[0m \u001b[32m━━━━━━━━━━━━━━━━━━━━\u001b[0m\u001b[37m\u001b[0m \u001b[1m0s\u001b[0m 4ms/step - accuracy: 0.0000e+00 - loss: 0.0000e+00\n",
      "Epoch 3/5\n"
     ]
    },
    {
     "name": "stderr",
     "output_type": "stream",
     "text": [
      "C:\\Users\\edita\\AppData\\Local\\Programs\\Python\\Python312\\Lib\\contextlib.py:158: UserWarning: Your input ran out of data; interrupting training. Make sure that your dataset or generator can generate at least `steps_per_epoch * epochs` batches. You may need to use the `.repeat()` function when building your dataset.\n",
      "  self.gen.throw(value)\n"
     ]
    },
    {
     "name": "stdout",
     "output_type": "stream",
     "text": [
      "\u001b[1m20/20\u001b[0m \u001b[32m━━━━━━━━━━━━━━━━━━━━\u001b[0m\u001b[37m\u001b[0m \u001b[1m13s\u001b[0m 633ms/step - accuracy: 0.5358 - loss: 0.6886\n",
      "Epoch 4/5\n",
      "\u001b[1m20/20\u001b[0m \u001b[32m━━━━━━━━━━━━━━━━━━━━\u001b[0m\u001b[37m\u001b[0m \u001b[1m0s\u001b[0m 364us/step - accuracy: 0.0000e+00 - loss: 0.0000e+00\n",
      "Epoch 5/5\n",
      "\u001b[1m20/20\u001b[0m \u001b[32m━━━━━━━━━━━━━━━━━━━━\u001b[0m\u001b[37m\u001b[0m \u001b[1m13s\u001b[0m 611ms/step - accuracy: 0.5344 - loss: 0.6946\n"
     ]
    }
   ],
   "source": [
    "history = model.fit(\n",
    "    combined_generator, # nurodome generatorių, iš kurio duomenis imsime dalimis\n",
    "    steps_per_epoch = len(combined_generator), #pasiims batchu kiekį\n",
    "    epochs = 5\n",
    ")"
   ]
  },
  {
   "cell_type": "code",
   "execution_count": 24,
   "metadata": {},
   "outputs": [],
   "source": [
    "def preprocess_image(image_path):\n",
    "    img = Image.open(image_path)\n",
    "    img = img.resize((150, 150))\n",
    "    img_array = np.array(img)\n",
    "    img_array = img_array.astype('float32') / 255.0\n",
    "    img_array = np.expand_dims(img_array, axis=0)\n",
    "    return img_array"
   ]
  },
  {
   "cell_type": "code",
   "execution_count": 25,
   "metadata": {},
   "outputs": [
    {
     "name": "stdout",
     "output_type": "stream",
     "text": [
      "\u001b[1m1/1\u001b[0m \u001b[32m━━━━━━━━━━━━━━━━━━━━\u001b[0m\u001b[37m\u001b[0m \u001b[1m0s\u001b[0m 212ms/step\n",
      "Obuolys\n",
      "obuolys--------------\n",
      "\u001b[1m1/1\u001b[0m \u001b[32m━━━━━━━━━━━━━━━━━━━━\u001b[0m\u001b[37m\u001b[0m \u001b[1m0s\u001b[0m 42ms/step\n",
      "Obuolys\n",
      "obuolys--------------\n",
      "\u001b[1m1/1\u001b[0m \u001b[32m━━━━━━━━━━━━━━━━━━━━\u001b[0m\u001b[37m\u001b[0m \u001b[1m0s\u001b[0m 31ms/step\n",
      "Obuolys\n",
      "obuolys--------------\n",
      "\u001b[1m1/1\u001b[0m \u001b[32m━━━━━━━━━━━━━━━━━━━━\u001b[0m\u001b[37m\u001b[0m \u001b[1m0s\u001b[0m 37ms/step\n",
      "Obuolys\n",
      "pomidoras--------------\n",
      "\u001b[1m1/1\u001b[0m \u001b[32m━━━━━━━━━━━━━━━━━━━━\u001b[0m\u001b[37m\u001b[0m \u001b[1m0s\u001b[0m 30ms/step\n",
      "Obuolys\n",
      "pomidoras--------------\n",
      "\u001b[1m1/1\u001b[0m \u001b[32m━━━━━━━━━━━━━━━━━━━━\u001b[0m\u001b[37m\u001b[0m \u001b[1m0s\u001b[0m 32ms/step\n",
      "Obuolys\n",
      "pomidoras--------------\n",
      "\u001b[1m1/1\u001b[0m \u001b[32m━━━━━━━━━━━━━━━━━━━━\u001b[0m\u001b[37m\u001b[0m \u001b[1m0s\u001b[0m 33ms/step\n",
      "Obuolys\n",
      "slyva--------------\n",
      "\u001b[1m1/1\u001b[0m \u001b[32m━━━━━━━━━━━━━━━━━━━━\u001b[0m\u001b[37m\u001b[0m \u001b[1m0s\u001b[0m 30ms/step\n",
      "Obuolys\n",
      "slyva--------------\n"
     ]
    }
   ],
   "source": [
    "def predict_image(image_path):\n",
    "    img_array = preprocess_image(image_path)\n",
    "    prediction = model.predict(img_array)\n",
    "    return \"Obuolys\" if prediction[0][0] > 0.5 else 'Pomidoras'\n",
    "\n",
    "print(predict_image('obuoliai1.jpg'))\n",
    "print('obuolys--------------')\n",
    "print(predict_image('obuoliai2.jpg'))\n",
    "print('obuolys--------------')\n",
    "print(predict_image('obuoliai3.jpg'))\n",
    "print('obuolys--------------')\n",
    "print(predict_image('pomidorai1.jpg'))\n",
    "print('pomidoras--------------')\n",
    "print(predict_image('pomidorai2.jpg'))\n",
    "print('pomidoras--------------')\n",
    "print(predict_image('pomidorai3.jpg'))\n",
    "print('pomidoras--------------')\n",
    "print(predict_image('slyva1.jpg'))\n",
    "print('slyva--------------')\n",
    "print(predict_image('slyva2.jpg'))\n",
    "print('slyva--------------')\n"
   ]
  },
  {
   "cell_type": "code",
   "execution_count": 27,
   "metadata": {},
   "outputs": [],
   "source": [
    "def preprocess_image(image_path):\n",
    "    img = Image.open(image_path)\n",
    "    if image_path.endswith(\".png\"):\n",
    "        im = Image.open(image_path)\n",
    "        img = im.convert('RGB')\n",
    "        # rgb_im.save('colors.jpg')\n",
    "\n",
    "    img = img.resize((150,150))\n",
    "    img_array = np.array(img)\n",
    "    img_array = img_array.astype('float32') / 255.0\n",
    "    img_array = np.expand_dims(img_array, axis=0)\n",
    "    # print(img_array)\n",
    "    return img_array\n",
    "\n",
    "def predict_image(image_path):\n",
    "    img_array = preprocess_image(image_path)\n",
    "    prediction = model.predict(img_array)\n",
    "    return \"pomidoras\" if prediction[0][0] > 0.5 else 'obuolys'"
   ]
  }
 ],
 "metadata": {
  "kernelspec": {
   "display_name": "mokymai",
   "language": "python",
   "name": "python3"
  },
  "language_info": {
   "codemirror_mode": {
    "name": "ipython",
    "version": 3
   },
   "file_extension": ".py",
   "mimetype": "text/x-python",
   "name": "python",
   "nbconvert_exporter": "python",
   "pygments_lexer": "ipython3",
   "version": "3.12.2"
  }
 },
 "nbformat": 4,
 "nbformat_minor": 2
}
