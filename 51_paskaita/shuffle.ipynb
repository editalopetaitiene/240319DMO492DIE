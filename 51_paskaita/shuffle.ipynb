{
 "cells": [
  {
   "cell_type": "code",
   "execution_count": 6,
   "metadata": {},
   "outputs": [],
   "source": [
    "import os\n",
    "import random\n",
    "import shutil\n",
    "\n",
    "folder_dir = 'autoplius' # nurodom katalogą, kuriame yra nuscrapinti duomenys\n",
    "split_size = (0.7, 0.3) # kokia dalis mokymui ir kokia validacijai\n",
    "\n",
    "train_dir = os.path.join(folder_dir, 'train') #sukuriame nuorodą, kur bus laikomi kiti katalogai\n",
    "test_dir = os.path.join(folder_dir, 'test') #sukuriame nuorodą, kur bus laikomi kiti katalogai\n",
    "\n",
    "shutil.rmtree(train_dir, ignore_errors=True) #sunaikiname  anksčiau egzistavusį train katalogą ir jo viduje buvusius failus ir katalogus\n",
    "shutil.rmtree(test_dir, ignore_errors=True)  #sunaikiname  anksčiau egzistavusį train katalogą ir jo viduje buvusius failus ir katalogus\n",
    "\n",
    "for root, folder, img in os.walk(folder_dir): # atsako kokius katalogus (kategorijas) jūs turime po skrapinimo\n",
    "    folders = folder\n",
    "    break # nutraukiame po pirmo ciklo, nes nenorime \n",
    "# print(folders)\n",
    "\n",
    "os.makedirs(train_dir)\n",
    "os.makedirs(test_dir)\n",
    "\n",
    "for folder in folders:\n",
    "    files = os.listdir()\n",
    "    train_folder_path = os.path.join(train_dir, folder)\n",
    "    train_size = int(len(files)*split_size[0])\n",
    "    test_folder_path = os.path.join(test_dir, folder)\n",
    "    os.makedirs(train_folder_path)\n",
    "    os.makedirs(test_folder_path)"
   ]
  },
  {
   "cell_type": "code",
   "execution_count": 7,
   "metadata": {},
   "outputs": [],
   "source": [
    "import os\n",
    "import random\n",
    "import shutil\n",
    "\n",
    "folder_dir = 'autoplius'\n",
    "split_size = (0.7, 0.3)\n",
    "\n",
    "train_dir = os.path.join(folder_dir, 'train')\n",
    "test_dir = os.path.join(folder_dir, 'test')\n",
    "\n",
    "shutil.rmtree(train_dir, ignore_errors=True)\n",
    "shutil.rmtree(test_dir, ignore_errors=True)\n",
    "\n",
    "for root, folder, img in os.walk(folder_dir):\n",
    "    folders = folder\n",
    "    break\n",
    "\n",
    "os.makedirs(train_dir)\n",
    "os.makedirs(test_dir)\n",
    "for folder in folders:\n",
    "    files = os.listdir(os.path.join(folder_dir, folder))\n",
    "    random.shuffle(files)\n",
    "    train_size = int(len(files) * split_size[0])\n",
    "    test_size = int(len(files) * split_size[1])\n",
    "    train_folder_path = os.path.join(train_dir, folder)\n",
    "    test_folder_path = os.path.join(test_dir, folder)\n",
    "    os.makedirs(train_folder_path)\n",
    "    os.makedirs(test_folder_path)\n",
    "\n",
    "    for i, img in enumerate(files):\n",
    "        if i < train_size:\n",
    "            # reikia nurodyti is kur paimam ir i kur dedam\n",
    "            shutil.copy(os.path.join(folder_dir, folder, img), os.path.join(train_folder_path, img))\n",
    "        else:\n",
    "            shutil.copy(os.path.join(folder_dir, folder, img), os.path.join(test_folder_path, img))"
   ]
  }
 ],
 "metadata": {
  "kernelspec": {
   "display_name": "mokymai",
   "language": "python",
   "name": "python3"
  },
  "language_info": {
   "codemirror_mode": {
    "name": "ipython",
    "version": 3
   },
   "file_extension": ".py",
   "mimetype": "text/x-python",
   "name": "python",
   "nbconvert_exporter": "python",
   "pygments_lexer": "ipython3",
   "version": "3.12.2"
  }
 },
 "nbformat": 4,
 "nbformat_minor": 2
}
